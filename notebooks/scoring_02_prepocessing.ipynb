{
 "cells": [
  {
   "cell_type": "code",
   "execution_count": 1,
   "metadata": {
    "colab": {
     "base_uri": "https://localhost:8080/"
    },
    "id": "jjNqvJtOEBiX",
    "outputId": "9a457344-a698-4843-d88f-3939ac997975"
   },
   "outputs": [],
   "source": [
    "# from google.colab import drive\n",
    "# drive.mount('/content/drive')"
   ]
  },
  {
   "cell_type": "markdown",
   "metadata": {},
   "source": [
    "# Summury"
   ]
  },
  {
   "cell_type": "markdown",
   "metadata": {},
   "source": [
    "In this part, we are merging all the different table in order to have one dataset. For that, we created classes for each dataset to do some preprocessing, data cleaning and feature engineering. "
   ]
  },
  {
   "cell_type": "markdown",
   "metadata": {
    "id": "5_QGQWqnDQvh"
   },
   "source": [
    "# Preprocessing"
   ]
  },
  {
   "cell_type": "code",
   "execution_count": 2,
   "metadata": {
    "colab": {
     "base_uri": "https://localhost:8080/",
     "height": 173
    },
    "id": "uiCZlV5xCcgF",
    "outputId": "a1ad0efb-337c-4cc4-d56b-a1b049a8d115"
   },
   "outputs": [
    {
     "data": {
      "text/html": [
       "        <script type=\"text/javascript\">\n",
       "        window.PlotlyConfig = {MathJaxConfig: 'local'};\n",
       "        if (window.MathJax && window.MathJax.Hub && window.MathJax.Hub.Config) {window.MathJax.Hub.Config({SVG: {font: \"STIX-Web\"}});}\n",
       "        if (typeof require !== 'undefined') {\n",
       "        require.undef(\"plotly\");\n",
       "        requirejs.config({\n",
       "            paths: {\n",
       "                'plotly': ['https://cdn.plot.ly/plotly-2.34.0.min']\n",
       "            }\n",
       "        });\n",
       "        require(['plotly'], function(Plotly) {\n",
       "            window._Plotly = Plotly;\n",
       "        });\n",
       "        }\n",
       "        </script>\n",
       "        "
      ]
     },
     "metadata": {},
     "output_type": "display_data"
    },
    {
     "data": {
      "text/html": [
       "        <script type=\"text/javascript\">\n",
       "        window.PlotlyConfig = {MathJaxConfig: 'local'};\n",
       "        if (window.MathJax && window.MathJax.Hub && window.MathJax.Hub.Config) {window.MathJax.Hub.Config({SVG: {font: \"STIX-Web\"}});}\n",
       "        if (typeof require !== 'undefined') {\n",
       "        require.undef(\"plotly\");\n",
       "        requirejs.config({\n",
       "            paths: {\n",
       "                'plotly': ['https://cdn.plot.ly/plotly-2.34.0.min']\n",
       "            }\n",
       "        });\n",
       "        require(['plotly'], function(Plotly) {\n",
       "            window._Plotly = Plotly;\n",
       "        });\n",
       "        }\n",
       "        </script>\n",
       "        "
      ]
     },
     "metadata": {},
     "output_type": "display_data"
    }
   ],
   "source": [
    "%reload_ext autoreload\n",
    "%autoreload 2\n",
    "import sys\n",
    "from pathlib import Path\n",
    "import warnings\n",
    "from datetime import datetime\n",
    "from pathlib import Path\n",
    "\n",
    "import cufflinks as cf\n",
    "import pandas as pd\n",
    "import pendulum\n",
    "from loguru import logger\n",
    "from plotly.offline import init_notebook_mode\n",
    "\n",
    "sys.path.append(str(Path.cwd().parent))\n",
    "from settings.params import PARAMS, SEED\n",
    "from src.load_all_dataset import load_all_dataset\n",
    "from src.utils import reduce_memory_usage\n",
    "from src.datasets import *\n",
    "\n",
    "\n",
    "init_notebook_mode(connected=True)\n",
    "cf.go_offline()\n",
    "\n",
    "\n",
    "warnings.filterwarnings('ignore')\n",
    "\n",
    "\n",
    "pd.set_option(\"display.max_columns\", None)\n",
    "pd.set_option(\"display.max_rows\", 100)"
   ]
  },
  {
   "cell_type": "code",
   "execution_count": 3,
   "metadata": {
    "id": "zcgQ_evGnCCa"
   },
   "outputs": [],
   "source": [
    "# Set logging format\n",
    "log_fmt = \"<green>{time:YYYY-MM-DD HH:mm:ss.SSS!UTC}</green> | <level>{level: <8}</level> | <cyan>{name}</cyan>:<cyan>{function}</cyan>:<cyan>{line}</cyan> - {message}\"\n",
    "logger.configure(handlers=[{\"sink\": sys.stderr, \"format\": log_fmt}])\n",
    "\n",
    "# current date\n",
    "CURRENT_DATE = pendulum.now(tz=\"UTC\")"
   ]
  },
  {
   "cell_type": "code",
   "execution_count": 4,
   "metadata": {},
   "outputs": [],
   "source": [
    "DIR = PARAMS['file_directory']"
   ]
  },
  {
   "cell_type": "code",
   "execution_count": 5,
   "metadata": {},
   "outputs": [],
   "source": [
    "DIR = \"data/home-credit-default-risk/\""
   ]
  },
  {
   "cell_type": "code",
   "execution_count": 6,
   "metadata": {
    "id": "mQmcWZeKDLh4"
   },
   "outputs": [],
   "source": [
    "CLEANED_DATA_DIR = PARAMS['cleaned_data_directory']"
   ]
  },
  {
   "cell_type": "markdown",
   "metadata": {
    "id": "6Nt4A352nfdM"
   },
   "source": [
    "# Preprocessing of each dataset"
   ]
  },
  {
   "cell_type": "markdown",
   "metadata": {
    "id": "hToMBAmHDB41"
   },
   "source": [
    "## Bureau and Bureau_balance"
   ]
  },
  {
   "cell_type": "code",
   "execution_count": 7,
   "metadata": {
    "colab": {
     "base_uri": "https://localhost:8080/"
    },
    "id": "b4fXTWrkGCia",
    "outputId": "5e80ba1f-17c3-45ed-e2b0-0ca43f80b62b"
   },
   "outputs": [
    {
     "name": "stderr",
     "output_type": "stream",
     "text": [
      "\u001b[32m2024-08-07 17:56:34.714\u001b[0m | \u001b[1mINFO    \u001b[0m | \u001b[36mbureau\u001b[0m:\u001b[36m__init__\u001b[0m:\u001b[36m47\u001b[0m - Preprocessing class initialized.\n",
      "\u001b[32m2024-08-07 17:56:34.719\u001b[0m | \u001b[1mINFO    \u001b[0m | \u001b[36mbureau\u001b[0m:\u001b[36mpreprocess_bureau_balance\u001b[0m:\u001b[36m63\u001b[0m - #######################################################\n",
      "\u001b[32m2024-08-07 17:56:34.724\u001b[0m | \u001b[1mINFO    \u001b[0m | \u001b[36mbureau\u001b[0m:\u001b[36mpreprocess_bureau_balance\u001b[0m:\u001b[36m64\u001b[0m - #          Pre-processing bureau_balance.csv          #\n",
      "\u001b[32m2024-08-07 17:56:34.728\u001b[0m | \u001b[1mINFO    \u001b[0m | \u001b[36mbureau\u001b[0m:\u001b[36mpreprocess_bureau_balance\u001b[0m:\u001b[36m65\u001b[0m - #######################################################\n",
      "\u001b[32m2024-08-07 17:56:34.730\u001b[0m | \u001b[1mINFO    \u001b[0m | \u001b[36mbureau\u001b[0m:\u001b[36mpreprocess_bureau_balance\u001b[0m:\u001b[36m66\u001b[0m - \n",
      "Loading the DataFrame, bureau_balance.csv, into memory...\n",
      "\u001b[32m2024-08-07 17:56:50.785\u001b[0m | \u001b[1mINFO    \u001b[0m | \u001b[36mutils\u001b[0m:\u001b[36mreduce_memory_usage\u001b[0m:\u001b[36m25\u001b[0m - Memory usage of dataframe is 624.85 MB\n",
      "\u001b[32m2024-08-07 17:56:51.371\u001b[0m | \u001b[1mINFO    \u001b[0m | \u001b[36mutils\u001b[0m:\u001b[36mreduce_memory_usage\u001b[0m:\u001b[36m56\u001b[0m - Memory usage after optimization is: 338.46 MB\n",
      "\u001b[32m2024-08-07 17:56:51.371\u001b[0m | \u001b[1mINFO    \u001b[0m | \u001b[36mutils\u001b[0m:\u001b[36mreduce_memory_usage\u001b[0m:\u001b[36m57\u001b[0m - Decreased by 45.8%\n",
      "\u001b[32m2024-08-07 17:56:51.376\u001b[0m | \u001b[1mINFO    \u001b[0m | \u001b[36mbureau\u001b[0m:\u001b[36mpreprocess_bureau_balance\u001b[0m:\u001b[36m71\u001b[0m - Loaded bureau_balance.csv\n",
      "\u001b[32m2024-08-07 17:56:51.381\u001b[0m | \u001b[1mINFO    \u001b[0m | \u001b[36mbureau\u001b[0m:\u001b[36mpreprocess_bureau_balance\u001b[0m:\u001b[36m72\u001b[0m - Time Taken to load = 0:00:16.666901\n",
      "\u001b[32m2024-08-07 17:56:51.387\u001b[0m | \u001b[1mINFO    \u001b[0m | \u001b[36mbureau\u001b[0m:\u001b[36mpreprocess_bureau_balance\u001b[0m:\u001b[36m73\u001b[0m - \n",
      "Starting Data Cleaning and Feature Engineering...\n",
      "\u001b[32m2024-08-07 17:56:51.389\u001b[0m | \u001b[1mINFO    \u001b[0m | \u001b[36mbureau\u001b[0m:\u001b[36mpreprocess_bureau_balance\u001b[0m:\u001b[36m87\u001b[0m - Done preprocessing bureau_balance.\n",
      "\u001b[32m2024-08-07 17:56:51.389\u001b[0m | \u001b[1mINFO    \u001b[0m | \u001b[36mbureau\u001b[0m:\u001b[36mpreprocess_bureau_balance\u001b[0m:\u001b[36m88\u001b[0m - \n",
      "Initial Size of bureau_balance: (27299925, 3)\n",
      "\u001b[32m2024-08-07 17:56:51.400\u001b[0m | \u001b[1mINFO    \u001b[0m | \u001b[36mbureau\u001b[0m:\u001b[36mpreprocess_bureau_balance\u001b[0m:\u001b[36m89\u001b[0m - Size of bureau_balance after Pre-Processing, Feature Engineering and Aggregation: (27299925, 3)\n",
      "\u001b[32m2024-08-07 17:56:51.401\u001b[0m | \u001b[1mINFO    \u001b[0m | \u001b[36mbureau\u001b[0m:\u001b[36mpreprocess_bureau_balance\u001b[0m:\u001b[36m92\u001b[0m - \n",
      "Total Time Taken = 0:00:16.686920\n",
      "\u001b[32m2024-08-07 17:56:51.404\u001b[0m | \u001b[1mINFO    \u001b[0m | \u001b[36mbureau\u001b[0m:\u001b[36mpreprocess_bureau\u001b[0m:\u001b[36m118\u001b[0m - \n",
      "##############################################\n",
      "\u001b[32m2024-08-07 17:56:51.408\u001b[0m | \u001b[1mINFO    \u001b[0m | \u001b[36mbureau\u001b[0m:\u001b[36mpreprocess_bureau\u001b[0m:\u001b[36m119\u001b[0m - #          Pre-processing bureau.csv         #\n",
      "\u001b[32m2024-08-07 17:56:51.410\u001b[0m | \u001b[1mINFO    \u001b[0m | \u001b[36mbureau\u001b[0m:\u001b[36mpreprocess_bureau\u001b[0m:\u001b[36m120\u001b[0m - ##############################################\n",
      "\u001b[32m2024-08-07 17:56:51.410\u001b[0m | \u001b[1mINFO    \u001b[0m | \u001b[36mbureau\u001b[0m:\u001b[36mpreprocess_bureau\u001b[0m:\u001b[36m123\u001b[0m - Starting preprocessing of bureau.csv\n",
      "\u001b[32m2024-08-07 17:56:51.416\u001b[0m | \u001b[1mINFO    \u001b[0m | \u001b[36mbureau\u001b[0m:\u001b[36mpreprocess_bureau\u001b[0m:\u001b[36m124\u001b[0m - \n",
      "Loading the DataFrame, bureau.csv, into memory...\n",
      "\u001b[32m2024-08-07 17:56:58.538\u001b[0m | \u001b[1mINFO    \u001b[0m | \u001b[36mutils\u001b[0m:\u001b[36mreduce_memory_usage\u001b[0m:\u001b[36m25\u001b[0m - Memory usage of dataframe is 222.62 MB\n",
      "\u001b[32m2024-08-07 17:56:59.571\u001b[0m | \u001b[1mINFO    \u001b[0m | \u001b[36mutils\u001b[0m:\u001b[36mreduce_memory_usage\u001b[0m:\u001b[36m56\u001b[0m - Memory usage after optimization is: 112.95 MB\n",
      "\u001b[32m2024-08-07 17:56:59.576\u001b[0m | \u001b[1mINFO    \u001b[0m | \u001b[36mutils\u001b[0m:\u001b[36mreduce_memory_usage\u001b[0m:\u001b[36m57\u001b[0m - Decreased by 49.3%\n",
      "\u001b[32m2024-08-07 17:56:59.580\u001b[0m | \u001b[1mINFO    \u001b[0m | \u001b[36mbureau\u001b[0m:\u001b[36mpreprocess_bureau\u001b[0m:\u001b[36m129\u001b[0m - Loaded bureau.csv\n",
      "\u001b[32m2024-08-07 17:56:59.580\u001b[0m | \u001b[1mINFO    \u001b[0m | \u001b[36mbureau\u001b[0m:\u001b[36mpreprocess_bureau\u001b[0m:\u001b[36m130\u001b[0m - Time Taken to load = 0:00:08.169131\n",
      "\u001b[32m2024-08-07 17:56:59.586\u001b[0m | \u001b[1mINFO    \u001b[0m | \u001b[36mbureau\u001b[0m:\u001b[36mpreprocess_bureau\u001b[0m:\u001b[36m131\u001b[0m - \n",
      "Starting Data Cleaning and Feature Engineering...\n",
      "\u001b[32m2024-08-07 17:58:01.679\u001b[0m | \u001b[1mINFO    \u001b[0m | \u001b[36mbureau\u001b[0m:\u001b[36mpreprocess_bureau\u001b[0m:\u001b[36m159\u001b[0m - Preprocessing of bureau completed.\n",
      "\u001b[32m2024-08-07 17:58:01.685\u001b[0m | \u001b[1mINFO    \u001b[0m | \u001b[36mbureau\u001b[0m:\u001b[36mpreprocess_bureau\u001b[0m:\u001b[36m160\u001b[0m - Initial Size of bureau: (1716428, 17)\n",
      "\u001b[32m2024-08-07 17:58:01.686\u001b[0m | \u001b[1mINFO    \u001b[0m | \u001b[36mbureau\u001b[0m:\u001b[36mpreprocess_bureau\u001b[0m:\u001b[36m161\u001b[0m - Size after merging, preprocessing, and aggregation: (134542, 44)\n",
      "\u001b[32m2024-08-07 17:58:01.688\u001b[0m | \u001b[1mINFO    \u001b[0m | \u001b[36mbureau\u001b[0m:\u001b[36mpreprocess_bureau\u001b[0m:\u001b[36m162\u001b[0m - Total Time Taken: 0:01:26.974336\n",
      "\u001b[32m2024-08-07 17:58:01.688\u001b[0m | \u001b[1mINFO    \u001b[0m | \u001b[36mbureau\u001b[0m:\u001b[36mpreprocess_bureau\u001b[0m:\u001b[36m172\u001b[0m - ----------------------------------------------------------------------------------------------------\n"
     ]
    }
   ],
   "source": [
    "bureau_aggregated = preprocess_bureau_balance_and_bureau(file_directory=DIR).main()"
   ]
  },
  {
   "cell_type": "markdown",
   "metadata": {
    "id": "9zjUMUx3KFrr"
   },
   "source": [
    "## Previous Application"
   ]
  },
  {
   "cell_type": "code",
   "execution_count": 9,
   "metadata": {
    "colab": {
     "base_uri": "https://localhost:8080/"
    },
    "id": "200v9awsKZqS",
    "outputId": "376defc9-3e3b-4647-902b-db5d309d727f"
   },
   "outputs": [
    {
     "name": "stderr",
     "output_type": "stream",
     "text": [
      "\u001b[32m2024-08-07 17:58:42.249\u001b[0m | \u001b[1mINFO    \u001b[0m | \u001b[36mprevious_application\u001b[0m:\u001b[36m__init__\u001b[0m:\u001b[36m43\u001b[0m - Preprocessing class initialized.\n",
      "\u001b[32m2024-08-07 17:58:42.250\u001b[0m | \u001b[1mINFO    \u001b[0m | \u001b[36mprevious_application\u001b[0m:\u001b[36mload_dataframe\u001b[0m:\u001b[36m53\u001b[0m - ########################################################\n",
      "\u001b[32m2024-08-07 17:58:42.251\u001b[0m | \u001b[1mINFO    \u001b[0m | \u001b[36mprevious_application\u001b[0m:\u001b[36mload_dataframe\u001b[0m:\u001b[36m54\u001b[0m - #        Pre-processing previous_application.csv        #\n",
      "\u001b[32m2024-08-07 17:58:42.252\u001b[0m | \u001b[1mINFO    \u001b[0m | \u001b[36mprevious_application\u001b[0m:\u001b[36mload_dataframe\u001b[0m:\u001b[36m55\u001b[0m - ########################################################\n",
      "\u001b[32m2024-08-07 17:58:42.253\u001b[0m | \u001b[1mINFO    \u001b[0m | \u001b[36mprevious_application\u001b[0m:\u001b[36mload_dataframe\u001b[0m:\u001b[36m56\u001b[0m - Loading the DataFrame, previous_application.csv, into memory...\n",
      "\u001b[32m2024-08-07 17:58:56.840\u001b[0m | \u001b[1mINFO    \u001b[0m | \u001b[36mutils\u001b[0m:\u001b[36mreduce_memory_usage\u001b[0m:\u001b[36m25\u001b[0m - Memory usage of dataframe is 471.48 MB\n",
      "\u001b[32m2024-08-07 17:58:57.536\u001b[0m | \u001b[1mINFO    \u001b[0m | \u001b[36mutils\u001b[0m:\u001b[36mreduce_memory_usage\u001b[0m:\u001b[36m56\u001b[0m - Memory usage after optimization is: 293.08 MB\n",
      "\u001b[32m2024-08-07 17:58:57.536\u001b[0m | \u001b[1mINFO    \u001b[0m | \u001b[36mutils\u001b[0m:\u001b[36mreduce_memory_usage\u001b[0m:\u001b[36m57\u001b[0m - Decreased by 37.8%\n",
      "\u001b[32m2024-08-07 17:58:57.536\u001b[0m | \u001b[1mINFO    \u001b[0m | \u001b[36mprevious_application\u001b[0m:\u001b[36mload_dataframe\u001b[0m:\u001b[36m65\u001b[0m - Loaded previous_application.csv\n",
      "\u001b[32m2024-08-07 17:58:57.536\u001b[0m | \u001b[1mINFO    \u001b[0m | \u001b[36mprevious_application\u001b[0m:\u001b[36mload_dataframe\u001b[0m:\u001b[36m66\u001b[0m - Time Taken to load: 0:00:15.286321\n",
      "\u001b[32m2024-08-07 17:58:57.536\u001b[0m | \u001b[1mINFO    \u001b[0m | \u001b[36mprevious_application\u001b[0m:\u001b[36mdata_cleaning\u001b[0m:\u001b[36m77\u001b[0m - Starting Data Cleaning...\n",
      "\u001b[32m2024-08-07 17:58:57.536\u001b[0m | \u001b[1mINFO    \u001b[0m | \u001b[36mprevious_application\u001b[0m:\u001b[36mdata_cleaning\u001b[0m:\u001b[36m83\u001b[0m - Data Cleaning Done.\n",
      "\u001b[32m2024-08-07 17:58:57.536\u001b[0m | \u001b[1mINFO    \u001b[0m | \u001b[36mprevious_application\u001b[0m:\u001b[36mdata_cleaning\u001b[0m:\u001b[36m84\u001b[0m - Time taken: 0:00:00\n",
      "\u001b[32m2024-08-07 17:58:57.536\u001b[0m | \u001b[1mINFO    \u001b[0m | \u001b[36mprevious_application\u001b[0m:\u001b[36mpreprocessing_feature_engineering\u001b[0m:\u001b[36m95\u001b[0m - Performing Preprocessing and Feature Engineering...\n",
      "\u001b[32m2024-08-07 17:58:57.536\u001b[0m | \u001b[1mINFO    \u001b[0m | \u001b[36mprevious_application\u001b[0m:\u001b[36mpreprocessing_feature_engineering\u001b[0m:\u001b[36m101\u001b[0m - Preprocessing and Feature Engineering Done.\n",
      "\u001b[32m2024-08-07 17:58:57.536\u001b[0m | \u001b[1mINFO    \u001b[0m | \u001b[36mprevious_application\u001b[0m:\u001b[36mpreprocessing_feature_engineering\u001b[0m:\u001b[36m102\u001b[0m - Time taken: 0:00:00\n",
      "\u001b[32m2024-08-07 17:58:57.536\u001b[0m | \u001b[1mINFO    \u001b[0m | \u001b[36mprevious_application\u001b[0m:\u001b[36maggregations\u001b[0m:\u001b[36m112\u001b[0m - Aggregating previous applications over SK_ID_CURR...\n",
      "\u001b[32m2024-08-07 17:59:08.516\u001b[0m | \u001b[1mINFO    \u001b[0m | \u001b[36mprevious_application\u001b[0m:\u001b[36maggregations\u001b[0m:\u001b[36m146\u001b[0m - Aggregations Done.\n",
      "\u001b[32m2024-08-07 17:59:08.516\u001b[0m | \u001b[1mINFO    \u001b[0m | \u001b[36mprevious_application\u001b[0m:\u001b[36maggregations\u001b[0m:\u001b[36m147\u001b[0m - Size after merging, preprocessing, and aggregation: (338857, 164)\n",
      "\u001b[32m2024-08-07 17:59:08.550\u001b[0m | \u001b[1mINFO    \u001b[0m | \u001b[36mprevious_application\u001b[0m:\u001b[36mmain\u001b[0m:\u001b[36m171\u001b[0m - Done aggregations.\n",
      "\u001b[32m2024-08-07 17:59:08.550\u001b[0m | \u001b[1mINFO    \u001b[0m | \u001b[36mprevious_application\u001b[0m:\u001b[36mmain\u001b[0m:\u001b[36m172\u001b[0m - Initial Size of previous_application: (1670214, 37)\n",
      "\u001b[32m2024-08-07 17:59:08.550\u001b[0m | \u001b[1mINFO    \u001b[0m | \u001b[36mprevious_application\u001b[0m:\u001b[36mmain\u001b[0m:\u001b[36m173\u001b[0m - Size of previous_application after Pre-Processing, Feature Engineering and Aggregation: (338857, 164)\n",
      "\u001b[32m2024-08-07 17:59:08.550\u001b[0m | \u001b[1mINFO    \u001b[0m | \u001b[36mprevious_application\u001b[0m:\u001b[36mmain\u001b[0m:\u001b[36m177\u001b[0m - Total Time Taken: 0:00:26.300258\n"
     ]
    }
   ],
   "source": [
    "previous_aggregated = preprocess_previous_application(file_directory=CLEANED_DATA_DIR).main()"
   ]
  },
  {
   "cell_type": "markdown",
   "metadata": {
    "id": "txK6VSh9K9AD"
   },
   "source": [
    "## installments_payments"
   ]
  },
  {
   "cell_type": "code",
   "execution_count": 10,
   "metadata": {
    "colab": {
     "base_uri": "https://localhost:8080/"
    },
    "id": "AsQYrZcxLYEj",
    "outputId": "6b08f746-1411-433e-ab60-49bba334a810"
   },
   "outputs": [
    {
     "name": "stderr",
     "output_type": "stream",
     "text": [
      "\u001b[32m2024-08-07 17:59:08.865\u001b[0m | \u001b[1mINFO    \u001b[0m | \u001b[36minstallements_payments\u001b[0m:\u001b[36m__init__\u001b[0m:\u001b[36m43\u001b[0m - Preprocessing class initialized.\n",
      "\u001b[32m2024-08-07 17:59:08.865\u001b[0m | \u001b[1mINFO    \u001b[0m | \u001b[36minstallements_payments\u001b[0m:\u001b[36mload_dataframe\u001b[0m:\u001b[36m53\u001b[0m - ##########################################################\n",
      "\u001b[32m2024-08-07 17:59:08.865\u001b[0m | \u001b[1mINFO    \u001b[0m | \u001b[36minstallements_payments\u001b[0m:\u001b[36mload_dataframe\u001b[0m:\u001b[36m54\u001b[0m - #        Pre-processing installments_payments.csv        #\n",
      "\u001b[32m2024-08-07 17:59:08.865\u001b[0m | \u001b[1mINFO    \u001b[0m | \u001b[36minstallements_payments\u001b[0m:\u001b[36mload_dataframe\u001b[0m:\u001b[36m55\u001b[0m - ##########################################################\n",
      "\u001b[32m2024-08-07 17:59:08.865\u001b[0m | \u001b[1mINFO    \u001b[0m | \u001b[36minstallements_payments\u001b[0m:\u001b[36mload_dataframe\u001b[0m:\u001b[36m56\u001b[0m - Loading the DataFrame, installments_payments.csv, into memory...\n",
      "\u001b[32m2024-08-07 17:59:34.701\u001b[0m | \u001b[1mINFO    \u001b[0m | \u001b[36mutils\u001b[0m:\u001b[36mreduce_memory_usage\u001b[0m:\u001b[36m25\u001b[0m - Memory usage of dataframe is 830.41 MB\n",
      "\u001b[32m2024-08-07 17:59:38.844\u001b[0m | \u001b[1mINFO    \u001b[0m | \u001b[36mutils\u001b[0m:\u001b[36mreduce_memory_usage\u001b[0m:\u001b[36m56\u001b[0m - Memory usage after optimization is: 311.40 MB\n",
      "\u001b[32m2024-08-07 17:59:38.850\u001b[0m | \u001b[1mINFO    \u001b[0m | \u001b[36mutils\u001b[0m:\u001b[36mreduce_memory_usage\u001b[0m:\u001b[36m57\u001b[0m - Decreased by 62.5%\n",
      "\u001b[32m2024-08-07 17:59:38.856\u001b[0m | \u001b[1mINFO    \u001b[0m | \u001b[36minstallements_payments\u001b[0m:\u001b[36mload_dataframe\u001b[0m:\u001b[36m62\u001b[0m - Loaded installments_payments.csv\n",
      "\u001b[32m2024-08-07 17:59:38.863\u001b[0m | \u001b[1mINFO    \u001b[0m | \u001b[36minstallements_payments\u001b[0m:\u001b[36mload_dataframe\u001b[0m:\u001b[36m63\u001b[0m - Time Taken to load: 0:00:29.998110\n",
      "\u001b[32m2024-08-07 17:59:38.877\u001b[0m | \u001b[1mINFO    \u001b[0m | \u001b[36minstallements_payments\u001b[0m:\u001b[36mdata_preprocessing_and_feature_engineering\u001b[0m:\u001b[36m74\u001b[0m - Starting Data Pre-processing and Feature Engineering...\n",
      "\u001b[32m2024-08-07 17:59:38.878\u001b[0m | \u001b[1mINFO    \u001b[0m | \u001b[36minstallements_payments\u001b[0m:\u001b[36mdata_preprocessing_and_feature_engineering\u001b[0m:\u001b[36m80\u001b[0m - Data Pre-processing and Feature Engineering Done.\n",
      "\u001b[32m2024-08-07 17:59:38.891\u001b[0m | \u001b[1mINFO    \u001b[0m | \u001b[36minstallements_payments\u001b[0m:\u001b[36mdata_preprocessing_and_feature_engineering\u001b[0m:\u001b[36m81\u001b[0m - Time Taken: 0:00:00.013672\n",
      "\u001b[32m2024-08-07 17:59:38.894\u001b[0m | \u001b[1mINFO    \u001b[0m | \u001b[36minstallements_payments\u001b[0m:\u001b[36maggregations_sk_id_curr\u001b[0m:\u001b[36m91\u001b[0m - Aggregating installments payments over SK_ID_CURR...\n",
      "\u001b[32m2024-08-07 17:59:48.823\u001b[0m | \u001b[1mINFO    \u001b[0m | \u001b[36minstallements_payments\u001b[0m:\u001b[36maggregations_sk_id_curr\u001b[0m:\u001b[36m108\u001b[0m - Aggregation Done.\n",
      "\u001b[32m2024-08-07 17:59:48.823\u001b[0m | \u001b[1mINFO    \u001b[0m | \u001b[36minstallements_payments\u001b[0m:\u001b[36maggregations_sk_id_curr\u001b[0m:\u001b[36m109\u001b[0m - Size after aggregation: (339587, 7)\n",
      "\u001b[32m2024-08-07 17:59:48.823\u001b[0m | \u001b[1mINFO    \u001b[0m | \u001b[36minstallements_payments\u001b[0m:\u001b[36mmain\u001b[0m:\u001b[36m130\u001b[0m - Done preprocessing installments_payments.\n",
      "\u001b[32m2024-08-07 17:59:48.831\u001b[0m | \u001b[1mINFO    \u001b[0m | \u001b[36minstallements_payments\u001b[0m:\u001b[36mmain\u001b[0m:\u001b[36m131\u001b[0m - Initial Size of installments_payments: (13605401, 8)\n",
      "\u001b[32m2024-08-07 17:59:48.834\u001b[0m | \u001b[1mINFO    \u001b[0m | \u001b[36minstallements_payments\u001b[0m:\u001b[36mmain\u001b[0m:\u001b[36m132\u001b[0m - Size of installments_payments after Pre-Processing, Feature Engineering and Aggregation: (339587, 7)\n",
      "\u001b[32m2024-08-07 17:59:48.836\u001b[0m | \u001b[1mINFO    \u001b[0m | \u001b[36minstallements_payments\u001b[0m:\u001b[36mmain\u001b[0m:\u001b[36m136\u001b[0m - Total Time Taken: 0:00:39.971420\n"
     ]
    }
   ],
   "source": [
    "installments_aggregated = preprocess_installments_payments(file_directory=DIR).main()"
   ]
  },
  {
   "cell_type": "markdown",
   "metadata": {
    "id": "u4UDARqsLfl2"
   },
   "source": [
    "## POS_CASH_balance"
   ]
  },
  {
   "cell_type": "code",
   "execution_count": 11,
   "metadata": {
    "colab": {
     "base_uri": "https://localhost:8080/"
    },
    "id": "_pdp7fRsL-2f",
    "outputId": "d8d185cf-4b2f-4d93-ced4-19983bf605b6"
   },
   "outputs": [
    {
     "name": "stderr",
     "output_type": "stream",
     "text": [
      "\u001b[32m2024-08-07 17:59:49.552\u001b[0m | \u001b[1mINFO    \u001b[0m | \u001b[36mpos_cash\u001b[0m:\u001b[36m__init__\u001b[0m:\u001b[36m39\u001b[0m - Preprocessing class initialized.\n",
      "\u001b[32m2024-08-07 17:59:49.568\u001b[0m | \u001b[1mINFO    \u001b[0m | \u001b[36mpos_cash\u001b[0m:\u001b[36mload_dataframe\u001b[0m:\u001b[36m49\u001b[0m - #########################################################\n",
      "\u001b[32m2024-08-07 17:59:49.568\u001b[0m | \u001b[1mINFO    \u001b[0m | \u001b[36mpos_cash\u001b[0m:\u001b[36mload_dataframe\u001b[0m:\u001b[36m50\u001b[0m - #          Pre-processing POS_CASH_balance.csv          #\n",
      "\u001b[32m2024-08-07 17:59:49.568\u001b[0m | \u001b[1mINFO    \u001b[0m | \u001b[36mpos_cash\u001b[0m:\u001b[36mload_dataframe\u001b[0m:\u001b[36m51\u001b[0m - #########################################################\n",
      "\u001b[32m2024-08-07 17:59:49.592\u001b[0m | \u001b[1mINFO    \u001b[0m | \u001b[36mpos_cash\u001b[0m:\u001b[36mload_dataframe\u001b[0m:\u001b[36m52\u001b[0m - Loading the DataFrame, POS_CASH_balance.csv, into memory...\n",
      "\u001b[32m2024-08-07 18:00:07.474\u001b[0m | \u001b[1mINFO    \u001b[0m | \u001b[36mutils\u001b[0m:\u001b[36mreduce_memory_usage\u001b[0m:\u001b[36m25\u001b[0m - Memory usage of dataframe is 610.43 MB\n",
      "\u001b[32m2024-08-07 18:00:08.638\u001b[0m | \u001b[1mINFO    \u001b[0m | \u001b[36mutils\u001b[0m:\u001b[36mreduce_memory_usage\u001b[0m:\u001b[36m56\u001b[0m - Memory usage after optimization is: 238.45 MB\n",
      "\u001b[32m2024-08-07 18:00:08.638\u001b[0m | \u001b[1mINFO    \u001b[0m | \u001b[36mutils\u001b[0m:\u001b[36mreduce_memory_usage\u001b[0m:\u001b[36m57\u001b[0m - Decreased by 60.9%\n",
      "\u001b[32m2024-08-07 18:00:08.638\u001b[0m | \u001b[1mINFO    \u001b[0m | \u001b[36mpos_cash\u001b[0m:\u001b[36mload_dataframe\u001b[0m:\u001b[36m58\u001b[0m - Loaded POS_CASH_balance.csv\n",
      "\u001b[32m2024-08-07 18:00:08.638\u001b[0m | \u001b[1mINFO    \u001b[0m | \u001b[36mpos_cash\u001b[0m:\u001b[36mload_dataframe\u001b[0m:\u001b[36m59\u001b[0m - Time Taken to load: 0:00:19.085324\n",
      "\u001b[32m2024-08-07 18:00:08.646\u001b[0m | \u001b[1mINFO    \u001b[0m | \u001b[36mpos_cash\u001b[0m:\u001b[36mdata_preprocessing_and_feature_engineering\u001b[0m:\u001b[36m70\u001b[0m - Starting Data Pre-processing and Feature Engineering...\n",
      "\u001b[32m2024-08-07 18:00:08.646\u001b[0m | \u001b[1mINFO    \u001b[0m | \u001b[36mpos_cash\u001b[0m:\u001b[36mdata_preprocessing_and_feature_engineering\u001b[0m:\u001b[36m76\u001b[0m - Data Pre-processing and Feature Engineering Done.\n",
      "\u001b[32m2024-08-07 18:00:08.654\u001b[0m | \u001b[1mINFO    \u001b[0m | \u001b[36mpos_cash\u001b[0m:\u001b[36mdata_preprocessing_and_feature_engineering\u001b[0m:\u001b[36m77\u001b[0m - Time Taken: 0:00:00.008015\n",
      "\u001b[32m2024-08-07 18:00:08.654\u001b[0m | \u001b[1mINFO    \u001b[0m | \u001b[36mpos_cash\u001b[0m:\u001b[36maggregations_sk_id_curr\u001b[0m:\u001b[36m87\u001b[0m - Aggregating POS_CASH_balance over SK_ID_CURR...\n",
      "\u001b[32m2024-08-07 18:00:24.855\u001b[0m | \u001b[1mINFO    \u001b[0m | \u001b[36mpos_cash\u001b[0m:\u001b[36maggregations_sk_id_curr\u001b[0m:\u001b[36m111\u001b[0m - Aggregation Done.\n",
      "\u001b[32m2024-08-07 18:00:24.855\u001b[0m | \u001b[1mINFO    \u001b[0m | \u001b[36mpos_cash\u001b[0m:\u001b[36maggregations_sk_id_curr\u001b[0m:\u001b[36m112\u001b[0m - Size after aggregation: (337252, 15)\n",
      "\u001b[32m2024-08-07 18:00:24.887\u001b[0m | \u001b[1mINFO    \u001b[0m | \u001b[36mpos_cash\u001b[0m:\u001b[36mmain\u001b[0m:\u001b[36m133\u001b[0m - Done preprocessing POS_CASH_balance.\n",
      "\u001b[32m2024-08-07 18:00:24.887\u001b[0m | \u001b[1mINFO    \u001b[0m | \u001b[36mpos_cash\u001b[0m:\u001b[36mmain\u001b[0m:\u001b[36m134\u001b[0m - Initial Size of POS_CASH_balance: (10001358, 8)\n",
      "\u001b[32m2024-08-07 18:00:24.887\u001b[0m | \u001b[1mINFO    \u001b[0m | \u001b[36mpos_cash\u001b[0m:\u001b[36mmain\u001b[0m:\u001b[36m135\u001b[0m - Size of POS_CASH_balance after Pre-Processing, Feature Engineering and Aggregation: (337252, 15)\n",
      "\u001b[32m2024-08-07 18:00:24.887\u001b[0m | \u001b[1mINFO    \u001b[0m | \u001b[36mpos_cash\u001b[0m:\u001b[36mmain\u001b[0m:\u001b[36m139\u001b[0m - Total Time Taken: 0:00:35.334237\n"
     ]
    }
   ],
   "source": [
    "pos_aggregated = preprocess_POS_CASH_balance(file_directory=DIR).main()"
   ]
  },
  {
   "cell_type": "markdown",
   "metadata": {
    "id": "Yqwtd7CjNVE-"
   },
   "source": [
    "## credit_card_balance"
   ]
  },
  {
   "cell_type": "code",
   "execution_count": 12,
   "metadata": {
    "colab": {
     "base_uri": "https://localhost:8080/"
    },
    "id": "wBPV2L2ENo2P",
    "outputId": "a5bd26ce-d943-4294-b362-a20e5e256389"
   },
   "outputs": [
    {
     "name": "stderr",
     "output_type": "stream",
     "text": [
      "\u001b[32m2024-08-07 18:00:25.357\u001b[0m | \u001b[1mINFO    \u001b[0m | \u001b[36mcredit_card_balance\u001b[0m:\u001b[36m__init__\u001b[0m:\u001b[36m37\u001b[0m - Preprocessing class initialized.\n",
      "\u001b[32m2024-08-07 18:00:25.357\u001b[0m | \u001b[1mINFO    \u001b[0m | \u001b[36mcredit_card_balance\u001b[0m:\u001b[36mload_dataframe\u001b[0m:\u001b[36m47\u001b[0m - #########################################################\n",
      "\u001b[32m2024-08-07 18:00:25.357\u001b[0m | \u001b[1mINFO    \u001b[0m | \u001b[36mcredit_card_balance\u001b[0m:\u001b[36mload_dataframe\u001b[0m:\u001b[36m48\u001b[0m - #        Pre-processing credit_card_balance.csv         #\n",
      "\u001b[32m2024-08-07 18:00:25.357\u001b[0m | \u001b[1mINFO    \u001b[0m | \u001b[36mcredit_card_balance\u001b[0m:\u001b[36mload_dataframe\u001b[0m:\u001b[36m49\u001b[0m - #########################################################\n",
      "\u001b[32m2024-08-07 18:00:25.370\u001b[0m | \u001b[1mINFO    \u001b[0m | \u001b[36mcredit_card_balance\u001b[0m:\u001b[36mload_dataframe\u001b[0m:\u001b[36m50\u001b[0m - Loading the DataFrame, credit_card_balance.csv, into memory...\n",
      "\u001b[32m2024-08-07 18:00:44.984\u001b[0m | \u001b[1mINFO    \u001b[0m | \u001b[36mutils\u001b[0m:\u001b[36mreduce_memory_usage\u001b[0m:\u001b[36m25\u001b[0m - Memory usage of dataframe is 673.88 MB\n",
      "\u001b[32m2024-08-07 18:00:47.150\u001b[0m | \u001b[1mINFO    \u001b[0m | \u001b[36mutils\u001b[0m:\u001b[36mreduce_memory_usage\u001b[0m:\u001b[36m56\u001b[0m - Memory usage after optimization is: 289.33 MB\n",
      "\u001b[32m2024-08-07 18:00:47.150\u001b[0m | \u001b[1mINFO    \u001b[0m | \u001b[36mutils\u001b[0m:\u001b[36mreduce_memory_usage\u001b[0m:\u001b[36m57\u001b[0m - Decreased by 57.1%\n",
      "\u001b[32m2024-08-07 18:00:47.150\u001b[0m | \u001b[1mINFO    \u001b[0m | \u001b[36mcredit_card_balance\u001b[0m:\u001b[36mload_dataframe\u001b[0m:\u001b[36m56\u001b[0m - Loaded credit_card_balance.csv\n",
      "\u001b[32m2024-08-07 18:00:47.161\u001b[0m | \u001b[1mINFO    \u001b[0m | \u001b[36mcredit_card_balance\u001b[0m:\u001b[36mload_dataframe\u001b[0m:\u001b[36m57\u001b[0m - Time Taken to load: 0:00:21.803232\n",
      "\u001b[32m2024-08-07 18:00:47.165\u001b[0m | \u001b[1mINFO    \u001b[0m | \u001b[36mcredit_card_balance\u001b[0m:\u001b[36mdata_preprocessing_and_feature_engineering\u001b[0m:\u001b[36m68\u001b[0m - Starting Data Pre-processing and Feature Engineering...\n",
      "\u001b[32m2024-08-07 18:00:47.166\u001b[0m | \u001b[1mINFO    \u001b[0m | \u001b[36mcredit_card_balance\u001b[0m:\u001b[36mdata_preprocessing_and_feature_engineering\u001b[0m:\u001b[36m74\u001b[0m - Data Pre-processing and Feature Engineering Done.\n",
      "\u001b[32m2024-08-07 18:00:47.171\u001b[0m | \u001b[1mINFO    \u001b[0m | \u001b[36mcredit_card_balance\u001b[0m:\u001b[36mdata_preprocessing_and_feature_engineering\u001b[0m:\u001b[36m75\u001b[0m - Time Taken: 0:00:00.005743\n",
      "\u001b[32m2024-08-07 18:00:47.171\u001b[0m | \u001b[1mINFO    \u001b[0m | \u001b[36mcredit_card_balance\u001b[0m:\u001b[36maggregations\u001b[0m:\u001b[36m85\u001b[0m - Aggregating the DataFrame, first over SK_ID_PREV, then over SK_ID_CURR\n",
      "\u001b[32m2024-08-07 18:00:53.093\u001b[0m | \u001b[1mINFO    \u001b[0m | \u001b[36mcredit_card_balance\u001b[0m:\u001b[36maggregations\u001b[0m:\u001b[36m109\u001b[0m - Aggregation Done.\n",
      "\u001b[32m2024-08-07 18:00:53.094\u001b[0m | \u001b[1mINFO    \u001b[0m | \u001b[36mcredit_card_balance\u001b[0m:\u001b[36maggregations\u001b[0m:\u001b[36m110\u001b[0m - Size after aggregation: (103558, 28)\n",
      "\u001b[32m2024-08-07 18:00:53.108\u001b[0m | \u001b[1mINFO    \u001b[0m | \u001b[36mcredit_card_balance\u001b[0m:\u001b[36mmain\u001b[0m:\u001b[36m131\u001b[0m - Done preprocessing credit_card_balance.\n",
      "\u001b[32m2024-08-07 18:00:53.114\u001b[0m | \u001b[1mINFO    \u001b[0m | \u001b[36mcredit_card_balance\u001b[0m:\u001b[36mmain\u001b[0m:\u001b[36m132\u001b[0m - Initial Size of credit_card_balance: (3840312, 23)\n",
      "\u001b[32m2024-08-07 18:00:53.116\u001b[0m | \u001b[1mINFO    \u001b[0m | \u001b[36mcredit_card_balance\u001b[0m:\u001b[36mmain\u001b[0m:\u001b[36m133\u001b[0m - Size of credit_card_balance after Pre-Processing, Feature Engineering and Aggregation: (103558, 28)\n",
      "\u001b[32m2024-08-07 18:00:53.119\u001b[0m | \u001b[1mINFO    \u001b[0m | \u001b[36mcredit_card_balance\u001b[0m:\u001b[36mmain\u001b[0m:\u001b[36m137\u001b[0m - Total Time Taken: 0:00:27.761691\n"
     ]
    }
   ],
   "source": [
    "cc_aggregated = preprocess_credit_card_balance(file_directory=DIR).main()"
   ]
  },
  {
   "cell_type": "markdown",
   "metadata": {
    "id": "8fVmBYfWN74r"
   },
   "source": [
    "## application_train and application_test"
   ]
  },
  {
   "cell_type": "code",
   "execution_count": 14,
   "metadata": {
    "colab": {
     "base_uri": "https://localhost:8080/"
    },
    "id": "jV8qiwDDPE8M",
    "outputId": "5bb1cda7-5f15-4137-97fd-c80f975391cd"
   },
   "outputs": [
    {
     "name": "stderr",
     "output_type": "stream",
     "text": [
      "\u001b[32m2024-08-07 18:02:57.776\u001b[0m | \u001b[1mINFO    \u001b[0m | \u001b[36mapplication\u001b[0m:\u001b[36mload_dataframes\u001b[0m:\u001b[36m56\u001b[0m - #######################################################\n",
      "\u001b[32m2024-08-07 18:02:57.779\u001b[0m | \u001b[1mINFO    \u001b[0m | \u001b[36mapplication\u001b[0m:\u001b[36mload_dataframes\u001b[0m:\u001b[36m57\u001b[0m - #        Pre-processing application_train.csv         #\n",
      "\u001b[32m2024-08-07 18:02:57.782\u001b[0m | \u001b[1mINFO    \u001b[0m | \u001b[36mapplication\u001b[0m:\u001b[36mload_dataframes\u001b[0m:\u001b[36m58\u001b[0m - #        Pre-processing application_test.csv          #\n",
      "\u001b[32m2024-08-07 18:02:57.784\u001b[0m | \u001b[1mINFO    \u001b[0m | \u001b[36mapplication\u001b[0m:\u001b[36mload_dataframes\u001b[0m:\u001b[36m59\u001b[0m - #######################################################\n",
      "\u001b[32m2024-08-07 18:02:57.787\u001b[0m | \u001b[1mINFO    \u001b[0m | \u001b[36mapplication\u001b[0m:\u001b[36mload_dataframes\u001b[0m:\u001b[36m60\u001b[0m - \n",
      "Loading the DataFrames into memory...\n",
      "\u001b[32m2024-08-07 18:03:16.154\u001b[0m | \u001b[1mINFO    \u001b[0m | \u001b[36mutils\u001b[0m:\u001b[36mreduce_memory_usage\u001b[0m:\u001b[36m25\u001b[0m - Memory usage of dataframe is 288.57 MB\n",
      "\u001b[32m2024-08-07 18:03:17.849\u001b[0m | \u001b[1mINFO    \u001b[0m | \u001b[36mutils\u001b[0m:\u001b[36mreduce_memory_usage\u001b[0m:\u001b[36m56\u001b[0m - Memory usage after optimization is: 92.38 MB\n",
      "\u001b[32m2024-08-07 18:03:17.853\u001b[0m | \u001b[1mINFO    \u001b[0m | \u001b[36mutils\u001b[0m:\u001b[36mreduce_memory_usage\u001b[0m:\u001b[36m57\u001b[0m - Decreased by 68.0%\n",
      "\u001b[32m2024-08-07 18:03:20.321\u001b[0m | \u001b[1mINFO    \u001b[0m | \u001b[36mutils\u001b[0m:\u001b[36mreduce_memory_usage\u001b[0m:\u001b[36m25\u001b[0m - Memory usage of dataframe is 45.00 MB\n",
      "\u001b[32m2024-08-07 18:03:20.690\u001b[0m | \u001b[1mINFO    \u001b[0m | \u001b[36mutils\u001b[0m:\u001b[36mreduce_memory_usage\u001b[0m:\u001b[36m56\u001b[0m - Memory usage after optimization is: 14.60 MB\n",
      "\u001b[32m2024-08-07 18:03:20.690\u001b[0m | \u001b[1mINFO    \u001b[0m | \u001b[36mutils\u001b[0m:\u001b[36mreduce_memory_usage\u001b[0m:\u001b[36m57\u001b[0m - Decreased by 67.6%\n",
      "\u001b[32m2024-08-07 18:03:20.703\u001b[0m | \u001b[1mINFO    \u001b[0m | \u001b[36mapplication\u001b[0m:\u001b[36mload_dataframes\u001b[0m:\u001b[36m68\u001b[0m - Loaded application_train.csv and application_test.csv\n",
      "\u001b[32m2024-08-07 18:03:20.709\u001b[0m | \u001b[1mINFO    \u001b[0m | \u001b[36mapplication\u001b[0m:\u001b[36mload_dataframes\u001b[0m:\u001b[36m69\u001b[0m - Time Taken to load = 0:00:22.932737\n",
      "\u001b[32m2024-08-07 18:03:20.712\u001b[0m | \u001b[1mINFO    \u001b[0m | \u001b[36mapplication\u001b[0m:\u001b[36mdata_cleaning\u001b[0m:\u001b[36m79\u001b[0m - \n",
      "Performing Data Cleaning...\n",
      "\u001b[32m2024-08-07 18:03:21.479\u001b[0m | \u001b[1mINFO    \u001b[0m | \u001b[36mapplication\u001b[0m:\u001b[36mdata_cleaning\u001b[0m:\u001b[36m93\u001b[0m - Data Cleaning Done.\n",
      "\u001b[32m2024-08-07 18:03:21.482\u001b[0m | \u001b[1mINFO    \u001b[0m | \u001b[36mapplication\u001b[0m:\u001b[36mmain\u001b[0m:\u001b[36m111\u001b[0m - \n",
      "Starting Feature Engineering...\n",
      "\u001b[32m2024-08-07 18:03:21.486\u001b[0m | \u001b[1mINFO    \u001b[0m | \u001b[36mapplication\u001b[0m:\u001b[36mmain\u001b[0m:\u001b[36m112\u001b[0m - \n",
      "Creating Domain Based Features on Numeric Data\n",
      "\u001b[32m2024-08-07 18:03:24.950\u001b[0m | \u001b[1mINFO    \u001b[0m | \u001b[36mapplication\u001b[0m:\u001b[36mmain\u001b[0m:\u001b[36m127\u001b[0m - Creating features based on Categorical Interactions on some Numeric Features\n",
      "\u001b[32m2024-08-07 18:03:24.953\u001b[0m | \u001b[1mINFO    \u001b[0m | \u001b[36mapplication\u001b[0m:\u001b[36mmain\u001b[0m:\u001b[36m128\u001b[0m - Feature Engineering Done.\n",
      "\u001b[32m2024-08-07 18:03:24.958\u001b[0m | \u001b[1mINFO    \u001b[0m | \u001b[36mapplication\u001b[0m:\u001b[36mmain\u001b[0m:\u001b[36m129\u001b[0m - Time taken = 0:00:03.476499\n",
      "\u001b[32m2024-08-07 18:03:24.963\u001b[0m | \u001b[1mINFO    \u001b[0m | \u001b[36mapplication\u001b[0m:\u001b[36mmain\u001b[0m:\u001b[36m132\u001b[0m - Preprocessing Done.\n",
      "\u001b[32m2024-08-07 18:03:24.965\u001b[0m | \u001b[1mINFO    \u001b[0m | \u001b[36mapplication\u001b[0m:\u001b[36mmain\u001b[0m:\u001b[36m133\u001b[0m - \n",
      "Initial Size of application_train: (307511, 123)\n",
      "\u001b[32m2024-08-07 18:03:24.965\u001b[0m | \u001b[1mINFO    \u001b[0m | \u001b[36mapplication\u001b[0m:\u001b[36mmain\u001b[0m:\u001b[36m134\u001b[0m - Size of application_train after Pre-Processing and Feature Engineering: (307511, 241)\n",
      "\u001b[32m2024-08-07 18:03:24.980\u001b[0m | \u001b[1mINFO    \u001b[0m | \u001b[36mapplication\u001b[0m:\u001b[36mmain\u001b[0m:\u001b[36m137\u001b[0m - \n",
      "Initial Size of application_test: (48744, 121)\n",
      "\u001b[32m2024-08-07 18:03:24.991\u001b[0m | \u001b[1mINFO    \u001b[0m | \u001b[36mapplication\u001b[0m:\u001b[36mmain\u001b[0m:\u001b[36m138\u001b[0m - Size of application_test after Pre-Processing and Feature Engineering: (48744, 237)\n",
      "\u001b[32m2024-08-07 18:03:24.997\u001b[0m | \u001b[1mINFO    \u001b[0m | \u001b[36mapplication\u001b[0m:\u001b[36mmain\u001b[0m:\u001b[36m141\u001b[0m - \n",
      "Total Time Taken = 0:00:27.220569\n",
      "\u001b[32m2024-08-07 18:03:25.000\u001b[0m | \u001b[1mINFO    \u001b[0m | \u001b[36mapplication\u001b[0m:\u001b[36mmain\u001b[0m:\u001b[36m153\u001b[0m - ----------------------------------------------------------------------------------------------------\n"
     ]
    }
   ],
   "source": [
    "application_train, application_test = preprocess_application_train_test(\n",
    "    file_directory1=CLEANED_DATA_DIR, file_directory2=DIR\n",
    ").main()"
   ]
  },
  {
   "cell_type": "code",
   "execution_count": 15,
   "metadata": {
    "colab": {
     "base_uri": "https://localhost:8080/"
    },
    "id": "H8-Y-dviiutz",
    "outputId": "8c1289f9-95ca-4c14-baf4-a5bfcfa04a93"
   },
   "outputs": [
    {
     "name": "stderr",
     "output_type": "stream",
     "text": [
      "\u001b[32m2024-08-07 18:03:36.801\u001b[0m | \u001b[1mINFO    \u001b[0m | \u001b[36mmerge_all_tables\u001b[0m:\u001b[36mmerge_all_tables\u001b[0m:\u001b[36m34\u001b[0m - Merging application_train and application_test with aggregated tables.\n",
      "\u001b[32m2024-08-07 18:03:37.811\u001b[0m | \u001b[1mINFO    \u001b[0m | \u001b[36mmerge_all_tables\u001b[0m:\u001b[36mmerge_all_tables\u001b[0m:\u001b[36m39\u001b[0m - Merged with bureau_aggregated.\n",
      "\u001b[32m2024-08-07 18:03:41.023\u001b[0m | \u001b[1mINFO    \u001b[0m | \u001b[36mmerge_all_tables\u001b[0m:\u001b[36mmerge_all_tables\u001b[0m:\u001b[36m44\u001b[0m - Merged with previous_aggregated.\n",
      "\u001b[32m2024-08-07 18:03:43.339\u001b[0m | \u001b[1mINFO    \u001b[0m | \u001b[36mmerge_all_tables\u001b[0m:\u001b[36mmerge_all_tables\u001b[0m:\u001b[36m49\u001b[0m - Merged with installments_aggregated.\n",
      "\u001b[32m2024-08-07 18:03:45.168\u001b[0m | \u001b[1mINFO    \u001b[0m | \u001b[36mmerge_all_tables\u001b[0m:\u001b[36mmerge_all_tables\u001b[0m:\u001b[36m54\u001b[0m - Merged with pos_aggregated.\n",
      "\u001b[32m2024-08-07 18:03:50.633\u001b[0m | \u001b[1mINFO    \u001b[0m | \u001b[36mmerge_all_tables\u001b[0m:\u001b[36mmerge_all_tables\u001b[0m:\u001b[36m63\u001b[0m - Filled missing values with 0.\n",
      "\u001b[32m2024-08-07 18:03:52.269\u001b[0m | \u001b[1mINFO    \u001b[0m | \u001b[36mmerge_all_tables\u001b[0m:\u001b[36mmerge_all_tables\u001b[0m:\u001b[36m68\u001b[0m - Cleaned column names.\n",
      "\u001b[32m2024-08-07 18:03:53.312\u001b[0m | \u001b[1mINFO    \u001b[0m | \u001b[36mmerge_all_tables\u001b[0m:\u001b[36mmerge_all_tables\u001b[0m:\u001b[36m82\u001b[0m - Ensured train and test data have the same columns.\n",
      "\u001b[32m2024-08-07 18:03:54.258\u001b[0m | \u001b[1mINFO    \u001b[0m | \u001b[36mmerge_all_tables\u001b[0m:\u001b[36mmerge_all_tables\u001b[0m:\u001b[36m87\u001b[0m - Removed SK_ID_CURR from the data.\n",
      "\u001b[32m2024-08-07 18:03:54.343\u001b[0m | \u001b[1mINFO    \u001b[0m | \u001b[36mutils\u001b[0m:\u001b[36mreduce_memory_usage\u001b[0m:\u001b[36m25\u001b[0m - Memory usage of dataframe is 632.57 MB\n",
      "\u001b[32m2024-08-07 18:04:01.175\u001b[0m | \u001b[1mINFO    \u001b[0m | \u001b[36mutils\u001b[0m:\u001b[36mreduce_memory_usage\u001b[0m:\u001b[36m56\u001b[0m - Memory usage after optimization is: 295.03 MB\n",
      "\u001b[32m2024-08-07 18:04:01.175\u001b[0m | \u001b[1mINFO    \u001b[0m | \u001b[36mutils\u001b[0m:\u001b[36mreduce_memory_usage\u001b[0m:\u001b[36m57\u001b[0m - Decreased by 53.4%\n",
      "\u001b[32m2024-08-07 18:04:01.274\u001b[0m | \u001b[1mINFO    \u001b[0m | \u001b[36mutils\u001b[0m:\u001b[36mreduce_memory_usage\u001b[0m:\u001b[36m25\u001b[0m - Memory usage of dataframe is 100.32 MB\n",
      "\u001b[32m2024-08-07 18:04:03.238\u001b[0m | \u001b[1mINFO    \u001b[0m | \u001b[36mutils\u001b[0m:\u001b[36mreduce_memory_usage\u001b[0m:\u001b[36m56\u001b[0m - Memory usage after optimization is: 46.81 MB\n",
      "\u001b[32m2024-08-07 18:04:03.238\u001b[0m | \u001b[1mINFO    \u001b[0m | \u001b[36mutils\u001b[0m:\u001b[36mreduce_memory_usage\u001b[0m:\u001b[36m57\u001b[0m - Decreased by 53.3%\n",
      "\u001b[32m2024-08-07 18:04:03.238\u001b[0m | \u001b[1mINFO    \u001b[0m | \u001b[36mmerge_all_tables\u001b[0m:\u001b[36mmerge_all_tables\u001b[0m:\u001b[36m92\u001b[0m - Reduced memory usage of the merged tables.\n"
     ]
    }
   ],
   "source": [
    "train_data, test_data = merge_all_tables(\n",
    "    application_train,\n",
    "    application_test,\n",
    "    bureau_aggregated,\n",
    "    previous_aggregated,\n",
    "    installments_aggregated,\n",
    "    pos_aggregated,\n",
    "    cc_aggregated,\n",
    ")"
   ]
  },
  {
   "cell_type": "code",
   "execution_count": null,
   "metadata": {
    "id": "Icf0uxjVse4B"
   },
   "outputs": [],
   "source": [
    "train_data.to_csv(DIR + 'train_data_final.csv')\n",
    "test_data.to_csv(DIR + 'test_data_final.csv')"
   ]
  }
 ],
 "metadata": {
  "colab": {
   "provenance": []
  },
  "kernelspec": {
   "display_name": "Python 3",
   "name": "python3"
  },
  "language_info": {
   "codemirror_mode": {
    "name": "ipython",
    "version": 3
   },
   "file_extension": ".py",
   "mimetype": "text/x-python",
   "name": "python",
   "nbconvert_exporter": "python",
   "pygments_lexer": "ipython3",
   "version": "3.10.4"
  }
 },
 "nbformat": 4,
 "nbformat_minor": 0
}
