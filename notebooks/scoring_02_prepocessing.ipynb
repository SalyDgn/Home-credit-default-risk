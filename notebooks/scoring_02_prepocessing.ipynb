{
  "cells": [
    {
      "cell_type": "code",
      "execution_count": null,
      "metadata": {
        "colab": {
          "base_uri": "https://localhost:8080/"
        },
        "id": "jjNqvJtOEBiX",
        "outputId": "9a457344-a698-4843-d88f-3939ac997975"
      },
      "outputs": [
        {
          "name": "stdout",
          "output_type": "stream",
          "text": [
            "Mounted at /content/drive\n"
          ]
        }
      ],
      "source": [
        "# from google.colab import drive\n",
        "# drive.mount('/content/drive')"
      ]
    },
    {
      "cell_type": "markdown",
      "metadata": {},
      "source": [
        "# Summury"
      ]
    },
    {
      "cell_type": "markdown",
      "metadata": {},
      "source": [
        "In this part, we are merging all the different table in order to have one dataset. For that, we created classes for each dataset to do some preprocessing, data cleaning and feature engineering. "
      ]
    },
    {
      "cell_type": "markdown",
      "metadata": {
        "id": "5_QGQWqnDQvh"
      },
      "source": [
        "# Preprocessing"
      ]
    },
    {
      "cell_type": "code",
      "execution_count": null,
      "metadata": {
        "colab": {
          "base_uri": "https://localhost:8080/",
          "height": 173
        },
        "id": "uiCZlV5xCcgF",
        "outputId": "a1ad0efb-337c-4cc4-d56b-a1b049a8d115"
      },
      "outputs": [
        {
          "data": {
            "text/html": [
              "        <script type=\"text/javascript\">\n",
              "        window.PlotlyConfig = {MathJaxConfig: 'local'};\n",
              "        if (window.MathJax && window.MathJax.Hub && window.MathJax.Hub.Config) {window.MathJax.Hub.Config({SVG: {font: \"STIX-Web\"}});}\n",
              "        if (typeof require !== 'undefined') {\n",
              "        require.undef(\"plotly\");\n",
              "        requirejs.config({\n",
              "            paths: {\n",
              "                'plotly': ['https://cdn.plot.ly/plotly-2.24.1.min']\n",
              "            }\n",
              "        });\n",
              "        require(['plotly'], function(Plotly) {\n",
              "            window._Plotly = Plotly;\n",
              "        });\n",
              "        }\n",
              "        </script>\n",
              "        "
            ]
          },
          "metadata": {},
          "output_type": "display_data"
        },
        {
          "data": {
            "text/html": [
              "        <script type=\"text/javascript\">\n",
              "        window.PlotlyConfig = {MathJaxConfig: 'local'};\n",
              "        if (window.MathJax && window.MathJax.Hub && window.MathJax.Hub.Config) {window.MathJax.Hub.Config({SVG: {font: \"STIX-Web\"}});}\n",
              "        if (typeof require !== 'undefined') {\n",
              "        require.undef(\"plotly\");\n",
              "        requirejs.config({\n",
              "            paths: {\n",
              "                'plotly': ['https://cdn.plot.ly/plotly-2.24.1.min']\n",
              "            }\n",
              "        });\n",
              "        require(['plotly'], function(Plotly) {\n",
              "            window._Plotly = Plotly;\n",
              "        });\n",
              "        }\n",
              "        </script>\n",
              "        "
            ]
          },
          "metadata": {},
          "output_type": "display_data"
        },
        {
          "name": "stderr",
          "output_type": "stream",
          "text": [
            "/usr/local/lib/python3.10/dist-packages/dask/dataframe/__init__.py:42: FutureWarning:\n",
            "\n",
            "\n",
            "Dask dataframe query planning is disabled because dask-expr is not installed.\n",
            "\n",
            "You can install it with `pip install dask[dataframe]` or `conda install dask`.\n",
            "This will raise in a future version.\n",
            "\n",
            "\n"
          ]
        }
      ],
      "source": [
        "import gc\n",
        "import os\n",
        "import pickle\n",
        "import pprint\n",
        "import shutil\n",
        "import sys\n",
        "from pathlib import Path\n",
        "import warnings\n",
        "from datetime import datetime\n",
        "\n",
        "import cufflinks as cf\n",
        "import pandas as pd\n",
        "import pendulum\n",
        "from loguru import logger\n",
        "from plotly.offline import init_notebook_mode\n",
        "\n",
        "sys.path.append(str(Path.cwd().parent))\n",
        "from settings.params import PARAMS, SEED\n",
        "from src.load_all_dataset import load_all_dataset\n",
        "from utils import reduce_memory_usage\n",
        "from src.datasets import *\n",
        "\n",
        "\n",
        "init_notebook_mode(connected=True)\n",
        "cf.go_offline()\n",
        "\n",
        "\n",
        "warnings.filterwarnings('ignore')\n",
        "\n",
        "pio.renderers.default = \"colab\"\n",
        "\n",
        "pd.set_option(\"display.max_columns\", None)\n",
        "pd.set_option(\"display.max_rows\", 100)\n",
        "set_config(display=\"diagram\", print_changed_only=False)"
      ]
    },
    {
      "cell_type": "code",
      "execution_count": null,
      "metadata": {
        "id": "zcgQ_evGnCCa"
      },
      "outputs": [],
      "source": [
        "# Set logging format\n",
        "log_fmt = \"<green>{time:YYYY-MM-DD HH:mm:ss.SSS!UTC}</green> | <level>{level: <8}</level> | <cyan>{name}</cyan>:<cyan>{function}</cyan>:<cyan>{line}</cyan> - {message}\"\n",
        "logger.configure(handlers=[{\"sink\": sys.stderr, \"format\": log_fmt}])\n",
        "\n",
        "# current date\n",
        "CURRENT_DATE = pendulum.now(tz=\"UTC\")"
      ]
    },
    {
      "cell_type": "code",
      "execution_count": null,
      "metadata": {},
      "outputs": [],
      "source": [
        "DIR = PARAMS['file_directory']"
      ]
    },
    {
      "cell_type": "code",
      "execution_count": null,
      "metadata": {
        "id": "mQmcWZeKDLh4"
      },
      "outputs": [],
      "source": [
        "CLEANED_DATA_DIR = DIR = PARAMS['cleaned_data__directory']"
      ]
    },
    {
      "cell_type": "code",
      "execution_count": null,
      "metadata": {},
      "outputs": [],
      "source": [
        "load_all_dataset()"
      ]
    },
    {
      "cell_type": "markdown",
      "metadata": {
        "id": "6Nt4A352nfdM"
      },
      "source": [
        "# Preprocessing of each dataset"
      ]
    },
    {
      "cell_type": "markdown",
      "metadata": {
        "id": "hToMBAmHDB41"
      },
      "source": [
        "## Bureau and Bureau_balance"
      ]
    },
    {
      "cell_type": "code",
      "execution_count": null,
      "metadata": {
        "colab": {
          "base_uri": "https://localhost:8080/"
        },
        "id": "b4fXTWrkGCia",
        "outputId": "5e80ba1f-17c3-45ed-e2b0-0ca43f80b62b"
      },
      "outputs": [
        {
          "name": "stderr",
          "output_type": "stream",
          "text": [
            "\u001b[32m2024-08-06 22:33:27.246\u001b[0m | \u001b[1mINFO    \u001b[0m | \u001b[36m__main__\u001b[0m:\u001b[36m__init__\u001b[0m:\u001b[36m39\u001b[0m - Preprocessing class initialized.\n",
            "\u001b[32m2024-08-06 22:33:27.260\u001b[0m | \u001b[1mINFO    \u001b[0m | \u001b[36m__main__\u001b[0m:\u001b[36mpreprocess_bureau_balance\u001b[0m:\u001b[36m55\u001b[0m - #######################################################\n",
            "\u001b[32m2024-08-06 22:33:27.262\u001b[0m | \u001b[1mINFO    \u001b[0m | \u001b[36m__main__\u001b[0m:\u001b[36mpreprocess_bureau_balance\u001b[0m:\u001b[36m56\u001b[0m - #          Pre-processing bureau_balance.csv          #\n",
            "\u001b[32m2024-08-06 22:33:27.264\u001b[0m | \u001b[1mINFO    \u001b[0m | \u001b[36m__main__\u001b[0m:\u001b[36mpreprocess_bureau_balance\u001b[0m:\u001b[36m57\u001b[0m - #######################################################\n",
            "\u001b[32m2024-08-06 22:33:27.268\u001b[0m | \u001b[1mINFO    \u001b[0m | \u001b[36m__main__\u001b[0m:\u001b[36mpreprocess_bureau_balance\u001b[0m:\u001b[36m58\u001b[0m - \n",
            "Loading the DataFrame, bureau_balance.csv, into memory...\n",
            "\u001b[32m2024-08-06 22:33:47.543\u001b[0m | \u001b[1mINFO    \u001b[0m | \u001b[36m__main__\u001b[0m:\u001b[36mreduce_memory_usage\u001b[0m:\u001b[36m24\u001b[0m - Memory usage of dataframe is 624.85 MB\n",
            "\u001b[32m2024-08-06 22:33:47.762\u001b[0m | \u001b[1mINFO    \u001b[0m | \u001b[36m__main__\u001b[0m:\u001b[36mreduce_memory_usage\u001b[0m:\u001b[36m55\u001b[0m - Memory usage after optimization is: 338.46 MB\n",
            "\u001b[32m2024-08-06 22:33:47.763\u001b[0m | \u001b[1mINFO    \u001b[0m | \u001b[36m__main__\u001b[0m:\u001b[36mreduce_memory_usage\u001b[0m:\u001b[36m56\u001b[0m - Decreased by 45.8%\n",
            "\u001b[32m2024-08-06 22:33:47.766\u001b[0m | \u001b[1mINFO    \u001b[0m | \u001b[36m__main__\u001b[0m:\u001b[36mpreprocess_bureau_balance\u001b[0m:\u001b[36m63\u001b[0m - Loaded bureau_balance.csv\n",
            "\u001b[32m2024-08-06 22:33:47.769\u001b[0m | \u001b[1mINFO    \u001b[0m | \u001b[36m__main__\u001b[0m:\u001b[36mpreprocess_bureau_balance\u001b[0m:\u001b[36m64\u001b[0m - Time Taken to load = 0:00:20.523276\n",
            "\u001b[32m2024-08-06 22:33:47.771\u001b[0m | \u001b[1mINFO    \u001b[0m | \u001b[36m__main__\u001b[0m:\u001b[36mpreprocess_bureau_balance\u001b[0m:\u001b[36m65\u001b[0m - \n",
            "Starting Data Cleaning and Feature Engineering...\n",
            "\u001b[32m2024-08-06 22:33:47.773\u001b[0m | \u001b[1mINFO    \u001b[0m | \u001b[36m__main__\u001b[0m:\u001b[36mpreprocess_bureau_balance\u001b[0m:\u001b[36m79\u001b[0m - Done preprocessing bureau_balance.\n",
            "\u001b[32m2024-08-06 22:33:47.774\u001b[0m | \u001b[1mINFO    \u001b[0m | \u001b[36m__main__\u001b[0m:\u001b[36mpreprocess_bureau_balance\u001b[0m:\u001b[36m80\u001b[0m - \n",
            "Initial Size of bureau_balance: (27299925, 3)\n",
            "\u001b[32m2024-08-06 22:33:47.775\u001b[0m | \u001b[1mINFO    \u001b[0m | \u001b[36m__main__\u001b[0m:\u001b[36mpreprocess_bureau_balance\u001b[0m:\u001b[36m81\u001b[0m - Size of bureau_balance after Pre-Processing, Feature Engineering and Aggregation: (27299925, 3)\n",
            "\u001b[32m2024-08-06 22:33:47.777\u001b[0m | \u001b[1mINFO    \u001b[0m | \u001b[36m__main__\u001b[0m:\u001b[36mpreprocess_bureau_balance\u001b[0m:\u001b[36m82\u001b[0m - \n",
            "Total Time Taken = 0:00:20.530662\n",
            "\u001b[32m2024-08-06 22:33:47.778\u001b[0m | \u001b[1mINFO    \u001b[0m | \u001b[36m__main__\u001b[0m:\u001b[36mpreprocess_bureau\u001b[0m:\u001b[36m108\u001b[0m - \n",
            "##############################################\n",
            "\u001b[32m2024-08-06 22:33:47.779\u001b[0m | \u001b[1mINFO    \u001b[0m | \u001b[36m__main__\u001b[0m:\u001b[36mpreprocess_bureau\u001b[0m:\u001b[36m109\u001b[0m - #          Pre-processing bureau.csv         #\n",
            "\u001b[32m2024-08-06 22:33:47.780\u001b[0m | \u001b[1mINFO    \u001b[0m | \u001b[36m__main__\u001b[0m:\u001b[36mpreprocess_bureau\u001b[0m:\u001b[36m110\u001b[0m - ##############################################\n",
            "\u001b[32m2024-08-06 22:33:47.781\u001b[0m | \u001b[1mINFO    \u001b[0m | \u001b[36m__main__\u001b[0m:\u001b[36mpreprocess_bureau\u001b[0m:\u001b[36m113\u001b[0m - Starting preprocessing of bureau.csv\n",
            "\u001b[32m2024-08-06 22:33:47.782\u001b[0m | \u001b[1mINFO    \u001b[0m | \u001b[36m__main__\u001b[0m:\u001b[36mpreprocess_bureau\u001b[0m:\u001b[36m114\u001b[0m - \n",
            "Loading the DataFrame, bureau.csv, into memory...\n",
            "\u001b[32m2024-08-06 22:33:53.887\u001b[0m | \u001b[1mINFO    \u001b[0m | \u001b[36m__main__\u001b[0m:\u001b[36mreduce_memory_usage\u001b[0m:\u001b[36m24\u001b[0m - Memory usage of dataframe is 222.62 MB\n",
            "\u001b[32m2024-08-06 22:33:54.235\u001b[0m | \u001b[1mINFO    \u001b[0m | \u001b[36m__main__\u001b[0m:\u001b[36mreduce_memory_usage\u001b[0m:\u001b[36m55\u001b[0m - Memory usage after optimization is: 112.95 MB\n",
            "\u001b[32m2024-08-06 22:33:54.238\u001b[0m | \u001b[1mINFO    \u001b[0m | \u001b[36m__main__\u001b[0m:\u001b[36mreduce_memory_usage\u001b[0m:\u001b[36m56\u001b[0m - Decreased by 49.3%\n",
            "\u001b[32m2024-08-06 22:33:54.240\u001b[0m | \u001b[1mINFO    \u001b[0m | \u001b[36m__main__\u001b[0m:\u001b[36mpreprocess_bureau\u001b[0m:\u001b[36m119\u001b[0m - Loaded bureau.csv\n",
            "\u001b[32m2024-08-06 22:33:54.242\u001b[0m | \u001b[1mINFO    \u001b[0m | \u001b[36m__main__\u001b[0m:\u001b[36mpreprocess_bureau\u001b[0m:\u001b[36m120\u001b[0m - Time Taken to load = 0:00:06.460231\n",
            "\u001b[32m2024-08-06 22:33:54.247\u001b[0m | \u001b[1mINFO    \u001b[0m | \u001b[36m__main__\u001b[0m:\u001b[36mpreprocess_bureau\u001b[0m:\u001b[36m121\u001b[0m - \n",
            "Starting Data Cleaning and Feature Engineering...\n",
            "\u001b[32m2024-08-06 22:34:44.724\u001b[0m | \u001b[1mINFO    \u001b[0m | \u001b[36m__main__\u001b[0m:\u001b[36mpreprocess_bureau\u001b[0m:\u001b[36m142\u001b[0m - Preprocessing of bureau completed.\n",
            "\u001b[32m2024-08-06 22:34:44.725\u001b[0m | \u001b[1mINFO    \u001b[0m | \u001b[36m__main__\u001b[0m:\u001b[36mpreprocess_bureau\u001b[0m:\u001b[36m143\u001b[0m - Initial Size of bureau: (1716428, 17)\n",
            "\u001b[32m2024-08-06 22:34:44.729\u001b[0m | \u001b[1mINFO    \u001b[0m | \u001b[36m__main__\u001b[0m:\u001b[36mpreprocess_bureau\u001b[0m:\u001b[36m144\u001b[0m - Size after merging, preprocessing, and aggregation: (134542, 44)\n",
            "\u001b[32m2024-08-06 22:34:44.731\u001b[0m | \u001b[1mINFO    \u001b[0m | \u001b[36m__main__\u001b[0m:\u001b[36mpreprocess_bureau\u001b[0m:\u001b[36m145\u001b[0m - Total Time Taken: 0:01:17.484984\n",
            "\u001b[32m2024-08-06 22:34:44.733\u001b[0m | \u001b[1mINFO    \u001b[0m | \u001b[36m__main__\u001b[0m:\u001b[36mpreprocess_bureau\u001b[0m:\u001b[36m155\u001b[0m - ----------------------------------------------------------------------------------------------------\n"
          ]
        }
      ],
      "source": [
        "bureau_aggregated = preprocess_bureau_balance_and_bureau(file_directory=DIR).main()"
      ]
    },
    {
      "cell_type": "markdown",
      "metadata": {
        "id": "9zjUMUx3KFrr"
      },
      "source": [
        "## Previous Application"
      ]
    },
    {
      "cell_type": "code",
      "execution_count": null,
      "metadata": {
        "colab": {
          "base_uri": "https://localhost:8080/"
        },
        "id": "200v9awsKZqS",
        "outputId": "376defc9-3e3b-4647-902b-db5d309d727f"
      },
      "outputs": [
        {
          "name": "stderr",
          "output_type": "stream",
          "text": [
            "\u001b[32m2024-08-06 22:34:45.165\u001b[0m | \u001b[1mINFO    \u001b[0m | \u001b[36m__main__\u001b[0m:\u001b[36m__init__\u001b[0m:\u001b[36m29\u001b[0m - Preprocessing class initialized.\n",
            "\u001b[32m2024-08-06 22:34:45.167\u001b[0m | \u001b[1mINFO    \u001b[0m | \u001b[36m__main__\u001b[0m:\u001b[36mload_dataframe\u001b[0m:\u001b[36m39\u001b[0m - ########################################################\n",
            "\u001b[32m2024-08-06 22:34:45.170\u001b[0m | \u001b[1mINFO    \u001b[0m | \u001b[36m__main__\u001b[0m:\u001b[36mload_dataframe\u001b[0m:\u001b[36m40\u001b[0m - #        Pre-processing previous_application.csv        #\n",
            "\u001b[32m2024-08-06 22:34:45.172\u001b[0m | \u001b[1mINFO    \u001b[0m | \u001b[36m__main__\u001b[0m:\u001b[36mload_dataframe\u001b[0m:\u001b[36m41\u001b[0m - ########################################################\n",
            "\u001b[32m2024-08-06 22:34:45.174\u001b[0m | \u001b[1mINFO    \u001b[0m | \u001b[36m__main__\u001b[0m:\u001b[36mload_dataframe\u001b[0m:\u001b[36m42\u001b[0m - Loading the DataFrame, previous_application.csv, into memory...\n",
            "\u001b[32m2024-08-06 22:34:57.433\u001b[0m | \u001b[1mINFO    \u001b[0m | \u001b[36m__main__\u001b[0m:\u001b[36mreduce_memory_usage\u001b[0m:\u001b[36m24\u001b[0m - Memory usage of dataframe is 471.48 MB\n",
            "\u001b[32m2024-08-06 22:34:58.127\u001b[0m | \u001b[1mINFO    \u001b[0m | \u001b[36m__main__\u001b[0m:\u001b[36mreduce_memory_usage\u001b[0m:\u001b[36m55\u001b[0m - Memory usage after optimization is: 293.08 MB\n",
            "\u001b[32m2024-08-06 22:34:58.128\u001b[0m | \u001b[1mINFO    \u001b[0m | \u001b[36m__main__\u001b[0m:\u001b[36mreduce_memory_usage\u001b[0m:\u001b[36m56\u001b[0m - Decreased by 37.8%\n",
            "\u001b[32m2024-08-06 22:34:58.133\u001b[0m | \u001b[1mINFO    \u001b[0m | \u001b[36m__main__\u001b[0m:\u001b[36mload_dataframe\u001b[0m:\u001b[36m49\u001b[0m - Loaded previous_application.csv\n",
            "\u001b[32m2024-08-06 22:34:58.136\u001b[0m | \u001b[1mINFO    \u001b[0m | \u001b[36m__main__\u001b[0m:\u001b[36mload_dataframe\u001b[0m:\u001b[36m50\u001b[0m - Time Taken to load: 0:00:12.970672\n",
            "\u001b[32m2024-08-06 22:34:58.137\u001b[0m | \u001b[1mINFO    \u001b[0m | \u001b[36m__main__\u001b[0m:\u001b[36mdata_cleaning\u001b[0m:\u001b[36m61\u001b[0m - Starting Data Cleaning...\n",
            "\u001b[32m2024-08-06 22:34:58.140\u001b[0m | \u001b[1mINFO    \u001b[0m | \u001b[36m__main__\u001b[0m:\u001b[36mdata_cleaning\u001b[0m:\u001b[36m67\u001b[0m - Data Cleaning Done.\n",
            "\u001b[32m2024-08-06 22:34:58.141\u001b[0m | \u001b[1mINFO    \u001b[0m | \u001b[36m__main__\u001b[0m:\u001b[36mdata_cleaning\u001b[0m:\u001b[36m68\u001b[0m - Time taken: 0:00:00.003989\n",
            "\u001b[32m2024-08-06 22:34:58.143\u001b[0m | \u001b[1mINFO    \u001b[0m | \u001b[36m__main__\u001b[0m:\u001b[36mpreprocessing_feature_engineering\u001b[0m:\u001b[36m79\u001b[0m - Performing Preprocessing and Feature Engineering...\n",
            "\u001b[32m2024-08-06 22:34:58.145\u001b[0m | \u001b[1mINFO    \u001b[0m | \u001b[36m__main__\u001b[0m:\u001b[36mpreprocessing_feature_engineering\u001b[0m:\u001b[36m85\u001b[0m - Preprocessing and Feature Engineering Done.\n",
            "\u001b[32m2024-08-06 22:34:58.146\u001b[0m | \u001b[1mINFO    \u001b[0m | \u001b[36m__main__\u001b[0m:\u001b[36mpreprocessing_feature_engineering\u001b[0m:\u001b[36m86\u001b[0m - Time taken: 0:00:00.002934\n",
            "\u001b[32m2024-08-06 22:34:58.148\u001b[0m | \u001b[1mINFO    \u001b[0m | \u001b[36m__main__\u001b[0m:\u001b[36maggregations\u001b[0m:\u001b[36m96\u001b[0m - Aggregating previous applications over SK_ID_CURR...\n",
            "\u001b[32m2024-08-06 22:35:10.895\u001b[0m | \u001b[1mINFO    \u001b[0m | \u001b[36m__main__\u001b[0m:\u001b[36maggregations\u001b[0m:\u001b[36m116\u001b[0m - Aggregations Done.\n",
            "\u001b[32m2024-08-06 22:35:10.901\u001b[0m | \u001b[1mINFO    \u001b[0m | \u001b[36m__main__\u001b[0m:\u001b[36maggregations\u001b[0m:\u001b[36m117\u001b[0m - Size after merging, preprocessing, and aggregation: (338857, 164)\n",
            "\u001b[32m2024-08-06 22:35:10.915\u001b[0m | \u001b[1mINFO    \u001b[0m | \u001b[36m__main__\u001b[0m:\u001b[36mmain\u001b[0m:\u001b[36m141\u001b[0m - Done aggregations.\n",
            "\u001b[32m2024-08-06 22:35:10.921\u001b[0m | \u001b[1mINFO    \u001b[0m | \u001b[36m__main__\u001b[0m:\u001b[36mmain\u001b[0m:\u001b[36m142\u001b[0m - Initial Size of previous_application: (1670214, 37)\n",
            "\u001b[32m2024-08-06 22:35:10.925\u001b[0m | \u001b[1mINFO    \u001b[0m | \u001b[36m__main__\u001b[0m:\u001b[36mmain\u001b[0m:\u001b[36m143\u001b[0m - Size of previous_application after Pre-Processing, Feature Engineering and Aggregation: (338857, 164)\n",
            "\u001b[32m2024-08-06 22:35:10.927\u001b[0m | \u001b[1mINFO    \u001b[0m | \u001b[36m__main__\u001b[0m:\u001b[36mmain\u001b[0m:\u001b[36m144\u001b[0m - Total Time Taken: 0:00:25.762518\n"
          ]
        }
      ],
      "source": [
        "previous_aggregated = preprocess_previous_application(file_directory=CLEANED_DATA_DIR).main()"
      ]
    },
    {
      "cell_type": "markdown",
      "metadata": {
        "id": "txK6VSh9K9AD"
      },
      "source": [
        "## installments_payments"
      ]
    },
    {
      "cell_type": "code",
      "execution_count": null,
      "metadata": {
        "colab": {
          "base_uri": "https://localhost:8080/"
        },
        "id": "AsQYrZcxLYEj",
        "outputId": "6b08f746-1411-433e-ab60-49bba334a810"
      },
      "outputs": [
        {
          "name": "stderr",
          "output_type": "stream",
          "text": [
            "\u001b[32m2024-08-06 22:35:11.066\u001b[0m | \u001b[1mINFO    \u001b[0m | \u001b[36m__main__\u001b[0m:\u001b[36m__init__\u001b[0m:\u001b[36m29\u001b[0m - Preprocessing class initialized.\n",
            "\u001b[32m2024-08-06 22:35:11.070\u001b[0m | \u001b[1mINFO    \u001b[0m | \u001b[36m__main__\u001b[0m:\u001b[36mload_dataframe\u001b[0m:\u001b[36m39\u001b[0m - ##########################################################\n",
            "\u001b[32m2024-08-06 22:35:11.073\u001b[0m | \u001b[1mINFO    \u001b[0m | \u001b[36m__main__\u001b[0m:\u001b[36mload_dataframe\u001b[0m:\u001b[36m40\u001b[0m - #        Pre-processing installments_payments.csv        #\n",
            "\u001b[32m2024-08-06 22:35:11.074\u001b[0m | \u001b[1mINFO    \u001b[0m | \u001b[36m__main__\u001b[0m:\u001b[36mload_dataframe\u001b[0m:\u001b[36m41\u001b[0m - ##########################################################\n",
            "\u001b[32m2024-08-06 22:35:11.076\u001b[0m | \u001b[1mINFO    \u001b[0m | \u001b[36m__main__\u001b[0m:\u001b[36mload_dataframe\u001b[0m:\u001b[36m42\u001b[0m - Loading the DataFrame, installments_payments.csv, into memory...\n",
            "\u001b[32m2024-08-06 22:35:28.972\u001b[0m | \u001b[1mINFO    \u001b[0m | \u001b[36m__main__\u001b[0m:\u001b[36mreduce_memory_usage\u001b[0m:\u001b[36m24\u001b[0m - Memory usage of dataframe is 830.41 MB\n",
            "\u001b[32m2024-08-06 22:35:30.085\u001b[0m | \u001b[1mINFO    \u001b[0m | \u001b[36m__main__\u001b[0m:\u001b[36mreduce_memory_usage\u001b[0m:\u001b[36m55\u001b[0m - Memory usage after optimization is: 311.40 MB\n",
            "\u001b[32m2024-08-06 22:35:30.086\u001b[0m | \u001b[1mINFO    \u001b[0m | \u001b[36m__main__\u001b[0m:\u001b[36mreduce_memory_usage\u001b[0m:\u001b[36m56\u001b[0m - Decreased by 62.5%\n",
            "\u001b[32m2024-08-06 22:35:30.089\u001b[0m | \u001b[1mINFO    \u001b[0m | \u001b[36m__main__\u001b[0m:\u001b[36mload_dataframe\u001b[0m:\u001b[36m48\u001b[0m - Loaded installments_payments.csv\n",
            "\u001b[32m2024-08-06 22:35:30.091\u001b[0m | \u001b[1mINFO    \u001b[0m | \u001b[36m__main__\u001b[0m:\u001b[36mload_dataframe\u001b[0m:\u001b[36m49\u001b[0m - Time Taken to load: 0:00:19.025965\n",
            "\u001b[32m2024-08-06 22:35:30.094\u001b[0m | \u001b[1mINFO    \u001b[0m | \u001b[36m__main__\u001b[0m:\u001b[36mdata_preprocessing_and_feature_engineering\u001b[0m:\u001b[36m60\u001b[0m - Starting Data Pre-processing and Feature Engineering...\n",
            "\u001b[32m2024-08-06 22:35:30.096\u001b[0m | \u001b[1mINFO    \u001b[0m | \u001b[36m__main__\u001b[0m:\u001b[36mdata_preprocessing_and_feature_engineering\u001b[0m:\u001b[36m66\u001b[0m - Data Pre-processing and Feature Engineering Done.\n",
            "\u001b[32m2024-08-06 22:35:30.097\u001b[0m | \u001b[1mINFO    \u001b[0m | \u001b[36m__main__\u001b[0m:\u001b[36mdata_preprocessing_and_feature_engineering\u001b[0m:\u001b[36m67\u001b[0m - Time Taken: 0:00:00.003820\n",
            "\u001b[32m2024-08-06 22:35:30.098\u001b[0m | \u001b[1mINFO    \u001b[0m | \u001b[36m__main__\u001b[0m:\u001b[36maggregations_sk_id_curr\u001b[0m:\u001b[36m77\u001b[0m - Aggregating installments payments over SK_ID_CURR...\n",
            "\u001b[32m2024-08-06 22:35:32.324\u001b[0m | \u001b[1mINFO    \u001b[0m | \u001b[36m__main__\u001b[0m:\u001b[36maggregations_sk_id_curr\u001b[0m:\u001b[36m85\u001b[0m - Aggregation Done.\n",
            "\u001b[32m2024-08-06 22:35:32.325\u001b[0m | \u001b[1mINFO    \u001b[0m | \u001b[36m__main__\u001b[0m:\u001b[36maggregations_sk_id_curr\u001b[0m:\u001b[36m86\u001b[0m - Size after aggregation: (339587, 7)\n",
            "\u001b[32m2024-08-06 22:35:32.328\u001b[0m | \u001b[1mINFO    \u001b[0m | \u001b[36m__main__\u001b[0m:\u001b[36mmain\u001b[0m:\u001b[36m107\u001b[0m - Done preprocessing installments_payments.\n",
            "\u001b[32m2024-08-06 22:35:32.330\u001b[0m | \u001b[1mINFO    \u001b[0m | \u001b[36m__main__\u001b[0m:\u001b[36mmain\u001b[0m:\u001b[36m108\u001b[0m - Initial Size of installments_payments: (13605401, 8)\n",
            "\u001b[32m2024-08-06 22:35:32.333\u001b[0m | \u001b[1mINFO    \u001b[0m | \u001b[36m__main__\u001b[0m:\u001b[36mmain\u001b[0m:\u001b[36m109\u001b[0m - Size of installments_payments after Pre-Processing, Feature Engineering and Aggregation: (339587, 7)\n",
            "\u001b[32m2024-08-06 22:35:32.337\u001b[0m | \u001b[1mINFO    \u001b[0m | \u001b[36m__main__\u001b[0m:\u001b[36mmain\u001b[0m:\u001b[36m110\u001b[0m - Total Time Taken: 0:00:21.271171\n"
          ]
        }
      ],
      "source": [
        "installments_aggregated = preprocess_installments_payments(file_directory = DIR).main()"
      ]
    },
    {
      "cell_type": "markdown",
      "metadata": {
        "id": "u4UDARqsLfl2"
      },
      "source": [
        "## POS_CASH_balance"
      ]
    },
    {
      "cell_type": "code",
      "execution_count": null,
      "metadata": {
        "colab": {
          "base_uri": "https://localhost:8080/"
        },
        "id": "_pdp7fRsL-2f",
        "outputId": "d8d185cf-4b2f-4d93-ced4-19983bf605b6"
      },
      "outputs": [
        {
          "name": "stderr",
          "output_type": "stream",
          "text": [
            "\u001b[32m2024-08-06 22:35:32.370\u001b[0m | \u001b[1mINFO    \u001b[0m | \u001b[36m__main__\u001b[0m:\u001b[36m__init__\u001b[0m:\u001b[36m29\u001b[0m - Preprocessing class initialized.\n",
            "\u001b[32m2024-08-06 22:35:32.373\u001b[0m | \u001b[1mINFO    \u001b[0m | \u001b[36m__main__\u001b[0m:\u001b[36mload_dataframe\u001b[0m:\u001b[36m39\u001b[0m - #########################################################\n",
            "\u001b[32m2024-08-06 22:35:32.377\u001b[0m | \u001b[1mINFO    \u001b[0m | \u001b[36m__main__\u001b[0m:\u001b[36mload_dataframe\u001b[0m:\u001b[36m40\u001b[0m - #          Pre-processing POS_CASH_balance.csv          #\n",
            "\u001b[32m2024-08-06 22:35:32.378\u001b[0m | \u001b[1mINFO    \u001b[0m | \u001b[36m__main__\u001b[0m:\u001b[36mload_dataframe\u001b[0m:\u001b[36m41\u001b[0m - #########################################################\n",
            "\u001b[32m2024-08-06 22:35:32.381\u001b[0m | \u001b[1mINFO    \u001b[0m | \u001b[36m__main__\u001b[0m:\u001b[36mload_dataframe\u001b[0m:\u001b[36m42\u001b[0m - Loading the DataFrame, POS_CASH_balance.csv, into memory...\n",
            "\u001b[32m2024-08-06 22:35:43.010\u001b[0m | \u001b[1mINFO    \u001b[0m | \u001b[36m__main__\u001b[0m:\u001b[36mreduce_memory_usage\u001b[0m:\u001b[36m24\u001b[0m - Memory usage of dataframe is 610.43 MB\n",
            "\u001b[32m2024-08-06 22:35:43.624\u001b[0m | \u001b[1mINFO    \u001b[0m | \u001b[36m__main__\u001b[0m:\u001b[36mreduce_memory_usage\u001b[0m:\u001b[36m55\u001b[0m - Memory usage after optimization is: 238.45 MB\n",
            "\u001b[32m2024-08-06 22:35:43.626\u001b[0m | \u001b[1mINFO    \u001b[0m | \u001b[36m__main__\u001b[0m:\u001b[36mreduce_memory_usage\u001b[0m:\u001b[36m56\u001b[0m - Decreased by 60.9%\n",
            "\u001b[32m2024-08-06 22:35:43.628\u001b[0m | \u001b[1mINFO    \u001b[0m | \u001b[36m__main__\u001b[0m:\u001b[36mload_dataframe\u001b[0m:\u001b[36m48\u001b[0m - Loaded POS_CASH_balance.csv\n",
            "\u001b[32m2024-08-06 22:35:43.630\u001b[0m | \u001b[1mINFO    \u001b[0m | \u001b[36m__main__\u001b[0m:\u001b[36mload_dataframe\u001b[0m:\u001b[36m49\u001b[0m - Time Taken to load: 0:00:11.260503\n",
            "\u001b[32m2024-08-06 22:35:43.632\u001b[0m | \u001b[1mINFO    \u001b[0m | \u001b[36m__main__\u001b[0m:\u001b[36mdata_preprocessing_and_feature_engineering\u001b[0m:\u001b[36m60\u001b[0m - Starting Data Pre-processing and Feature Engineering...\n",
            "\u001b[32m2024-08-06 22:35:43.634\u001b[0m | \u001b[1mINFO    \u001b[0m | \u001b[36m__main__\u001b[0m:\u001b[36mdata_preprocessing_and_feature_engineering\u001b[0m:\u001b[36m66\u001b[0m - Data Pre-processing and Feature Engineering Done.\n",
            "\u001b[32m2024-08-06 22:35:43.636\u001b[0m | \u001b[1mINFO    \u001b[0m | \u001b[36m__main__\u001b[0m:\u001b[36mdata_preprocessing_and_feature_engineering\u001b[0m:\u001b[36m67\u001b[0m - Time Taken: 0:00:00.004075\n",
            "\u001b[32m2024-08-06 22:35:43.638\u001b[0m | \u001b[1mINFO    \u001b[0m | \u001b[36m__main__\u001b[0m:\u001b[36maggregations_sk_id_curr\u001b[0m:\u001b[36m77\u001b[0m - Aggregating POS_CASH_balance over SK_ID_CURR...\n",
            "\u001b[32m2024-08-06 22:35:49.638\u001b[0m | \u001b[1mINFO    \u001b[0m | \u001b[36m__main__\u001b[0m:\u001b[36maggregations_sk_id_curr\u001b[0m:\u001b[36m93\u001b[0m - Aggregation Done.\n",
            "\u001b[32m2024-08-06 22:35:49.640\u001b[0m | \u001b[1mINFO    \u001b[0m | \u001b[36m__main__\u001b[0m:\u001b[36maggregations_sk_id_curr\u001b[0m:\u001b[36m94\u001b[0m - Size after aggregation: (337252, 15)\n",
            "\u001b[32m2024-08-06 22:35:49.643\u001b[0m | \u001b[1mINFO    \u001b[0m | \u001b[36m__main__\u001b[0m:\u001b[36mmain\u001b[0m:\u001b[36m115\u001b[0m - Done preprocessing POS_CASH_balance.\n",
            "\u001b[32m2024-08-06 22:35:49.647\u001b[0m | \u001b[1mINFO    \u001b[0m | \u001b[36m__main__\u001b[0m:\u001b[36mmain\u001b[0m:\u001b[36m116\u001b[0m - Initial Size of POS_CASH_balance: (10001358, 8)\n",
            "\u001b[32m2024-08-06 22:35:49.649\u001b[0m | \u001b[1mINFO    \u001b[0m | \u001b[36m__main__\u001b[0m:\u001b[36mmain\u001b[0m:\u001b[36m117\u001b[0m - Size of POS_CASH_balance after Pre-Processing, Feature Engineering and Aggregation: (337252, 15)\n",
            "\u001b[32m2024-08-06 22:35:49.652\u001b[0m | \u001b[1mINFO    \u001b[0m | \u001b[36m__main__\u001b[0m:\u001b[36mmain\u001b[0m:\u001b[36m118\u001b[0m - Total Time Taken: 0:00:17.282258\n"
          ]
        }
      ],
      "source": [
        "pos_aggregated = preprocess_POS_CASH_balance(file_directory = DIR).main()"
      ]
    },
    {
      "cell_type": "markdown",
      "metadata": {
        "id": "Yqwtd7CjNVE-"
      },
      "source": [
        "## credit_card_balance"
      ]
    },
    {
      "cell_type": "code",
      "execution_count": null,
      "metadata": {
        "colab": {
          "base_uri": "https://localhost:8080/"
        },
        "id": "wBPV2L2ENo2P",
        "outputId": "a5bd26ce-d943-4294-b362-a20e5e256389"
      },
      "outputs": [
        {
          "name": "stderr",
          "output_type": "stream",
          "text": [
            "\u001b[32m2024-08-06 22:35:49.704\u001b[0m | \u001b[1mINFO    \u001b[0m | \u001b[36m__main__\u001b[0m:\u001b[36m__init__\u001b[0m:\u001b[36m29\u001b[0m - Preprocessing class initialized.\n",
            "\u001b[32m2024-08-06 22:35:49.707\u001b[0m | \u001b[1mINFO    \u001b[0m | \u001b[36m__main__\u001b[0m:\u001b[36mload_dataframe\u001b[0m:\u001b[36m39\u001b[0m - #########################################################\n",
            "\u001b[32m2024-08-06 22:35:49.709\u001b[0m | \u001b[1mINFO    \u001b[0m | \u001b[36m__main__\u001b[0m:\u001b[36mload_dataframe\u001b[0m:\u001b[36m40\u001b[0m - #        Pre-processing credit_card_balance.csv         #\n",
            "\u001b[32m2024-08-06 22:35:49.711\u001b[0m | \u001b[1mINFO    \u001b[0m | \u001b[36m__main__\u001b[0m:\u001b[36mload_dataframe\u001b[0m:\u001b[36m41\u001b[0m - #########################################################\n",
            "\u001b[32m2024-08-06 22:35:49.713\u001b[0m | \u001b[1mINFO    \u001b[0m | \u001b[36m__main__\u001b[0m:\u001b[36mload_dataframe\u001b[0m:\u001b[36m42\u001b[0m - Loading the DataFrame, credit_card_balance.csv, into memory...\n",
            "\u001b[32m2024-08-06 22:36:03.884\u001b[0m | \u001b[1mINFO    \u001b[0m | \u001b[36m__main__\u001b[0m:\u001b[36mload_dataframe\u001b[0m:\u001b[36m48\u001b[0m - Loaded credit_card_balance.csv\n",
            "\u001b[32m2024-08-06 22:36:03.886\u001b[0m | \u001b[1mINFO    \u001b[0m | \u001b[36m__main__\u001b[0m:\u001b[36mload_dataframe\u001b[0m:\u001b[36m49\u001b[0m - Time Taken to load: 0:00:14.182208\n",
            "\u001b[32m2024-08-06 22:36:03.890\u001b[0m | \u001b[1mINFO    \u001b[0m | \u001b[36m__main__\u001b[0m:\u001b[36mdata_preprocessing_and_feature_engineering\u001b[0m:\u001b[36m60\u001b[0m - Starting Data Pre-processing and Feature Engineering...\n",
            "\u001b[32m2024-08-06 22:36:03.893\u001b[0m | \u001b[1mINFO    \u001b[0m | \u001b[36m__main__\u001b[0m:\u001b[36mdata_preprocessing_and_feature_engineering\u001b[0m:\u001b[36m66\u001b[0m - Data Pre-processing and Feature Engineering Done.\n",
            "\u001b[32m2024-08-06 22:36:03.895\u001b[0m | \u001b[1mINFO    \u001b[0m | \u001b[36m__main__\u001b[0m:\u001b[36mdata_preprocessing_and_feature_engineering\u001b[0m:\u001b[36m67\u001b[0m - Time Taken: 0:00:00.005486\n",
            "\u001b[32m2024-08-06 22:36:03.897\u001b[0m | \u001b[1mINFO    \u001b[0m | \u001b[36m__main__\u001b[0m:\u001b[36maggregations\u001b[0m:\u001b[36m77\u001b[0m - Aggregating the DataFrame, first over SK_ID_PREV, then over SK_ID_CURR\n",
            "\u001b[32m2024-08-06 22:36:07.015\u001b[0m | \u001b[1mINFO    \u001b[0m | \u001b[36m__main__\u001b[0m:\u001b[36maggregations\u001b[0m:\u001b[36m93\u001b[0m - Aggregation Done.\n",
            "\u001b[32m2024-08-06 22:36:07.018\u001b[0m | \u001b[1mINFO    \u001b[0m | \u001b[36m__main__\u001b[0m:\u001b[36maggregations\u001b[0m:\u001b[36m94\u001b[0m - Size after aggregation: (103558, 28)\n",
            "\u001b[32m2024-08-06 22:36:07.022\u001b[0m | \u001b[1mINFO    \u001b[0m | \u001b[36m__main__\u001b[0m:\u001b[36mmain\u001b[0m:\u001b[36m115\u001b[0m - Done preprocessing credit_card_balance.\n",
            "\u001b[32m2024-08-06 22:36:07.026\u001b[0m | \u001b[1mINFO    \u001b[0m | \u001b[36m__main__\u001b[0m:\u001b[36mmain\u001b[0m:\u001b[36m116\u001b[0m - Initial Size of credit_card_balance: (3840312, 23)\n",
            "\u001b[32m2024-08-06 22:36:07.028\u001b[0m | \u001b[1mINFO    \u001b[0m | \u001b[36m__main__\u001b[0m:\u001b[36mmain\u001b[0m:\u001b[36m117\u001b[0m - Size of credit_card_balance after Pre-Processing, Feature Engineering and Aggregation: (103558, 28)\n",
            "\u001b[32m2024-08-06 22:36:07.031\u001b[0m | \u001b[1mINFO    \u001b[0m | \u001b[36m__main__\u001b[0m:\u001b[36mmain\u001b[0m:\u001b[36m118\u001b[0m - Total Time Taken: 0:00:17.327058\n"
          ]
        }
      ],
      "source": [
        "cc_aggregated = preprocess_credit_card_balance(file_directory=DIR).main()"
      ]
    },
    {
      "cell_type": "markdown",
      "metadata": {
        "id": "8fVmBYfWN74r"
      },
      "source": [
        "## application_train and application_test"
      ]
    },
    {
      "cell_type": "code",
      "execution_count": null,
      "metadata": {
        "colab": {
          "base_uri": "https://localhost:8080/"
        },
        "id": "jV8qiwDDPE8M",
        "outputId": "5bb1cda7-5f15-4137-97fd-c80f975391cd"
      },
      "outputs": [
        {
          "name": "stderr",
          "output_type": "stream",
          "text": [
            "\u001b[32m2024-08-06 22:36:07.141\u001b[0m | \u001b[1mINFO    \u001b[0m | \u001b[36m__main__\u001b[0m:\u001b[36mload_dataframes\u001b[0m:\u001b[36m40\u001b[0m - #######################################################\n",
            "\u001b[32m2024-08-06 22:36:07.143\u001b[0m | \u001b[1mINFO    \u001b[0m | \u001b[36m__main__\u001b[0m:\u001b[36mload_dataframes\u001b[0m:\u001b[36m41\u001b[0m - #        Pre-processing application_train.csv         #\n",
            "\u001b[32m2024-08-06 22:36:07.149\u001b[0m | \u001b[1mINFO    \u001b[0m | \u001b[36m__main__\u001b[0m:\u001b[36mload_dataframes\u001b[0m:\u001b[36m42\u001b[0m - #        Pre-processing application_test.csv          #\n",
            "\u001b[32m2024-08-06 22:36:07.151\u001b[0m | \u001b[1mINFO    \u001b[0m | \u001b[36m__main__\u001b[0m:\u001b[36mload_dataframes\u001b[0m:\u001b[36m43\u001b[0m - #######################################################\n",
            "\u001b[32m2024-08-06 22:36:07.153\u001b[0m | \u001b[1mINFO    \u001b[0m | \u001b[36m__main__\u001b[0m:\u001b[36mload_dataframes\u001b[0m:\u001b[36m44\u001b[0m - \n",
            "Loading the DataFrames into memory...\n",
            "\u001b[32m2024-08-06 22:36:14.047\u001b[0m | \u001b[1mINFO    \u001b[0m | \u001b[36m__main__\u001b[0m:\u001b[36mreduce_memory_usage\u001b[0m:\u001b[36m24\u001b[0m - Memory usage of dataframe is 286.23 MB\n",
            "\u001b[32m2024-08-06 22:36:14.751\u001b[0m | \u001b[1mINFO    \u001b[0m | \u001b[36m__main__\u001b[0m:\u001b[36mreduce_memory_usage\u001b[0m:\u001b[36m55\u001b[0m - Memory usage after optimization is: 91.79 MB\n",
            "\u001b[32m2024-08-06 22:36:14.754\u001b[0m | \u001b[1mINFO    \u001b[0m | \u001b[36m__main__\u001b[0m:\u001b[36mreduce_memory_usage\u001b[0m:\u001b[36m56\u001b[0m - Decreased by 67.9%\n",
            "\u001b[32m2024-08-06 22:36:15.987\u001b[0m | \u001b[1mINFO    \u001b[0m | \u001b[36m__main__\u001b[0m:\u001b[36mreduce_memory_usage\u001b[0m:\u001b[36m24\u001b[0m - Memory usage of dataframe is 45.00 MB\n",
            "\u001b[32m2024-08-06 22:36:16.149\u001b[0m | \u001b[1mINFO    \u001b[0m | \u001b[36m__main__\u001b[0m:\u001b[36mreduce_memory_usage\u001b[0m:\u001b[36m55\u001b[0m - Memory usage after optimization is: 14.60 MB\n",
            "\u001b[32m2024-08-06 22:36:16.151\u001b[0m | \u001b[1mINFO    \u001b[0m | \u001b[36m__main__\u001b[0m:\u001b[36mreduce_memory_usage\u001b[0m:\u001b[36m56\u001b[0m - Decreased by 67.6%\n",
            "\u001b[32m2024-08-06 22:36:16.156\u001b[0m | \u001b[1mINFO    \u001b[0m | \u001b[36m__main__\u001b[0m:\u001b[36mload_dataframes\u001b[0m:\u001b[36m52\u001b[0m - Loaded application_train.csv and application_test.csv\n",
            "\u001b[32m2024-08-06 22:36:16.157\u001b[0m | \u001b[1mINFO    \u001b[0m | \u001b[36m__main__\u001b[0m:\u001b[36mload_dataframes\u001b[0m:\u001b[36m53\u001b[0m - Time Taken to load = 0:00:09.016394\n",
            "\u001b[32m2024-08-06 22:36:16.160\u001b[0m | \u001b[1mINFO    \u001b[0m | \u001b[36m__main__\u001b[0m:\u001b[36mdata_cleaning\u001b[0m:\u001b[36m63\u001b[0m - \n",
            "Performing Data Cleaning...\n",
            "\u001b[32m2024-08-06 22:36:16.342\u001b[0m | \u001b[1mINFO    \u001b[0m | \u001b[36m__main__\u001b[0m:\u001b[36mdata_cleaning\u001b[0m:\u001b[36m71\u001b[0m - Data Cleaning Done.\n",
            "\u001b[32m2024-08-06 22:36:16.344\u001b[0m | \u001b[1mINFO    \u001b[0m | \u001b[36m__main__\u001b[0m:\u001b[36mmain\u001b[0m:\u001b[36m89\u001b[0m - \n",
            "Starting Feature Engineering...\n",
            "\u001b[32m2024-08-06 22:36:16.350\u001b[0m | \u001b[1mINFO    \u001b[0m | \u001b[36m__main__\u001b[0m:\u001b[36mmain\u001b[0m:\u001b[36m90\u001b[0m - \n",
            "Creating Domain Based Features on Numeric Data\n",
            "\u001b[32m2024-08-06 22:36:17.206\u001b[0m | \u001b[1mINFO    \u001b[0m | \u001b[36m__main__\u001b[0m:\u001b[36mmain\u001b[0m:\u001b[36m99\u001b[0m - Creating features based on Categorical Interactions on some Numeric Features\n",
            "\u001b[32m2024-08-06 22:36:17.208\u001b[0m | \u001b[1mINFO    \u001b[0m | \u001b[36m__main__\u001b[0m:\u001b[36mmain\u001b[0m:\u001b[36m100\u001b[0m - Feature Engineering Done.\n",
            "\u001b[32m2024-08-06 22:36:17.212\u001b[0m | \u001b[1mINFO    \u001b[0m | \u001b[36m__main__\u001b[0m:\u001b[36mmain\u001b[0m:\u001b[36m101\u001b[0m - Time taken = 0:00:00.867705\n",
            "\u001b[32m2024-08-06 22:36:17.215\u001b[0m | \u001b[1mINFO    \u001b[0m | \u001b[36m__main__\u001b[0m:\u001b[36mmain\u001b[0m:\u001b[36m104\u001b[0m - Preprocessing Done.\n",
            "\u001b[32m2024-08-06 22:36:17.218\u001b[0m | \u001b[1mINFO    \u001b[0m | \u001b[36m__main__\u001b[0m:\u001b[36mmain\u001b[0m:\u001b[36m105\u001b[0m - \n",
            "Initial Size of application_train: (307511, 122)\n",
            "\u001b[32m2024-08-06 22:36:17.220\u001b[0m | \u001b[1mINFO    \u001b[0m | \u001b[36m__main__\u001b[0m:\u001b[36mmain\u001b[0m:\u001b[36m106\u001b[0m - Size of application_train after Pre-Processing and Feature Engineering: (307511, 240)\n",
            "\u001b[32m2024-08-06 22:36:17.223\u001b[0m | \u001b[1mINFO    \u001b[0m | \u001b[36m__main__\u001b[0m:\u001b[36mmain\u001b[0m:\u001b[36m107\u001b[0m - \n",
            "Initial Size of application_test: (48744, 121)\n",
            "\u001b[32m2024-08-06 22:36:17.224\u001b[0m | \u001b[1mINFO    \u001b[0m | \u001b[36m__main__\u001b[0m:\u001b[36mmain\u001b[0m:\u001b[36m108\u001b[0m - Size of application_test after Pre-Processing and Feature Engineering: (48744, 237)\n",
            "\u001b[32m2024-08-06 22:36:17.225\u001b[0m | \u001b[1mINFO    \u001b[0m | \u001b[36m__main__\u001b[0m:\u001b[36mmain\u001b[0m:\u001b[36m109\u001b[0m - \n",
            "Total Time Taken = 0:00:10.084003\n",
            "\u001b[32m2024-08-06 22:36:17.227\u001b[0m | \u001b[1mINFO    \u001b[0m | \u001b[36m__main__\u001b[0m:\u001b[36mmain\u001b[0m:\u001b[36m121\u001b[0m - ----------------------------------------------------------------------------------------------------\n"
          ]
        }
      ],
      "source": [
        "application_train, application_test = preprocess_application_train_test(file_directory1=CLEANED_DATA_DIR, file_directory2=DIR).main()"
      ]
    },
    {
      "cell_type": "code",
      "execution_count": null,
      "metadata": {
        "colab": {
          "base_uri": "https://localhost:8080/"
        },
        "id": "H8-Y-dviiutz",
        "outputId": "8c1289f9-95ca-4c14-baf4-a5bfcfa04a93"
      },
      "outputs": [
        {
          "name": "stderr",
          "output_type": "stream",
          "text": [
            "\u001b[32m2024-08-06 22:48:55.333\u001b[0m | \u001b[1mINFO    \u001b[0m | \u001b[36m__main__\u001b[0m:\u001b[36mreduce_memory_usage\u001b[0m:\u001b[36m24\u001b[0m - Memory usage of dataframe is 650.17 MB\n",
            "\u001b[32m2024-08-06 22:48:58.283\u001b[0m | \u001b[1mINFO    \u001b[0m | \u001b[36m__main__\u001b[0m:\u001b[36mreduce_memory_usage\u001b[0m:\u001b[36m55\u001b[0m - Memory usage after optimization is: 295.03 MB\n",
            "\u001b[32m2024-08-06 22:48:58.286\u001b[0m | \u001b[1mINFO    \u001b[0m | \u001b[36m__main__\u001b[0m:\u001b[36mreduce_memory_usage\u001b[0m:\u001b[36m56\u001b[0m - Decreased by 54.6%\n",
            "\u001b[32m2024-08-06 22:48:58.316\u001b[0m | \u001b[1mINFO    \u001b[0m | \u001b[36m__main__\u001b[0m:\u001b[36mreduce_memory_usage\u001b[0m:\u001b[36m24\u001b[0m - Memory usage of dataframe is 103.29 MB\n",
            "\u001b[32m2024-08-06 22:48:59.116\u001b[0m | \u001b[1mINFO    \u001b[0m | \u001b[36m__main__\u001b[0m:\u001b[36mreduce_memory_usage\u001b[0m:\u001b[36m55\u001b[0m - Memory usage after optimization is: 47.00 MB\n",
            "\u001b[32m2024-08-06 22:48:59.118\u001b[0m | \u001b[1mINFO    \u001b[0m | \u001b[36m__main__\u001b[0m:\u001b[36mreduce_memory_usage\u001b[0m:\u001b[36m56\u001b[0m - Decreased by 54.5%\n"
          ]
        }
      ],
      "source": [
        "train_data, test_data = merge_all_tables(application_train, application_test, bureau_aggregated, previous_aggregated,\n",
        "                    installments_aggregated, pos_aggregated, cc_aggregated)"
      ]
    },
    {
      "cell_type": "code",
      "execution_count": null,
      "metadata": {
        "id": "Icf0uxjVse4B"
      },
      "outputs": [],
      "source": [
        "train_data.to_csv(DIR + 'train_data_final.csv')\n",
        "test_data.to_csv(DIR + 'test_data_final.csv')"
      ]
    }
  ],
  "metadata": {
    "colab": {
      "provenance": []
    },
    "kernelspec": {
      "display_name": "Python 3",
      "name": "python3"
    },
    "language_info": {
      "codemirror_mode": {
        "name": "ipython",
        "version": 3
      },
      "file_extension": ".py",
      "mimetype": "text/x-python",
      "name": "python",
      "nbconvert_exporter": "python",
      "pygments_lexer": "ipython3",
      "version": "3.10.4"
    }
  },
  "nbformat": 4,
  "nbformat_minor": 0
}
