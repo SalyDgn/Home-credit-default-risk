{
 "cells": [
  {
   "cell_type": "markdown",
   "metadata": {
    "id": "5_QGQWqnDQvh"
   },
   "source": [
    "# Feature Engineering"
   ]
  },
  {
   "cell_type": "code",
   "execution_count": 1,
   "metadata": {
    "colab": {
     "base_uri": "https://localhost:8080/",
     "height": 366
    },
    "id": "uiCZlV5xCcgF",
    "outputId": "7d093462-509c-4702-fafd-2decd224ecca"
   },
   "outputs": [
    {
     "data": {
      "text/html": [
       "        <script type=\"text/javascript\">\n",
       "        window.PlotlyConfig = {MathJaxConfig: 'local'};\n",
       "        if (window.MathJax && window.MathJax.Hub && window.MathJax.Hub.Config) {window.MathJax.Hub.Config({SVG: {font: \"STIX-Web\"}});}\n",
       "        if (typeof require !== 'undefined') {\n",
       "        require.undef(\"plotly\");\n",
       "        requirejs.config({\n",
       "            paths: {\n",
       "                'plotly': ['https://cdn.plot.ly/plotly-2.34.0.min']\n",
       "            }\n",
       "        });\n",
       "        require(['plotly'], function(Plotly) {\n",
       "            window._Plotly = Plotly;\n",
       "        });\n",
       "        }\n",
       "        </script>\n",
       "        "
      ]
     },
     "metadata": {},
     "output_type": "display_data"
    },
    {
     "data": {
      "text/html": [
       "        <script type=\"text/javascript\">\n",
       "        window.PlotlyConfig = {MathJaxConfig: 'local'};\n",
       "        if (window.MathJax && window.MathJax.Hub && window.MathJax.Hub.Config) {window.MathJax.Hub.Config({SVG: {font: \"STIX-Web\"}});}\n",
       "        if (typeof require !== 'undefined') {\n",
       "        require.undef(\"plotly\");\n",
       "        requirejs.config({\n",
       "            paths: {\n",
       "                'plotly': ['https://cdn.plot.ly/plotly-2.34.0.min']\n",
       "            }\n",
       "        });\n",
       "        require(['plotly'], function(Plotly) {\n",
       "            window._Plotly = Plotly;\n",
       "        });\n",
       "        }\n",
       "        </script>\n",
       "        "
      ]
     },
     "metadata": {},
     "output_type": "display_data"
    }
   ],
   "source": [
    "import os\n",
    "import sys\n",
    "import shutil\n",
    "import pprint\n",
    "from pathlib import Path\n",
    "\n",
    "from random import random, randint\n",
    "import mlflow.sklearn\n",
    "from mlflow import log_metric, log_param, log_artifacts\n",
    "from sklearn.ensemble import RandomForestRegressor\n",
    "from mlflow.tracking import MlflowClient\n",
    "\n",
    "import pandas as pd\n",
    "import sklearn\n",
    "import numpy as np\n",
    "import matplotlib.pyplot as plt\n",
    "import warnings\n",
    "import seaborn as sns\n",
    "from sklearn.preprocessing import OneHotEncoder\n",
    "from sklearn.impute import SimpleImputer\n",
    "from sklearn.pipeline import Pipeline\n",
    "from sklearn.compose import ColumnTransformer, make_column_selector\n",
    "from sklearn.preprocessing import StandardScaler\n",
    "from sklearn.compose import TransformedTargetRegressor\n",
    "from sklearn.svm import LinearSVC\n",
    "from sklearn.pipeline import Pipeline, make_pipeline\n",
    "from sklearn.metrics import roc_auc_score\n",
    "from sklearn.linear_model import LogisticRegression\n",
    "from sklearn.metrics import roc_auc_score\n",
    "from sklearn.calibration import CalibratedClassifierCV\n",
    "from sklearn.metrics import confusion_matrix\n",
    "from sklearn.ensemble import RandomForestClassifier\n",
    "from sklearn.preprocessing import StandardScaler, MinMaxScaler, RobustScaler, OneHotEncoder\n",
    "from sklearn.metrics import accuracy_score\n",
    "from sklearn.linear_model import SGDClassifier\n",
    "import plotly.offline as py\n",
    "import plotly.graph_objs as go\n",
    "from plotly.offline import init_notebook_mode, iplot\n",
    "from sklearn.model_selection import train_test_split\n",
    "\n",
    "sys.path.append(str(Path.cwd().parent))\n",
    "from settings.params import PARAMS, SEED\n",
    "from src.load_all_dataset import load_all_dataset\n",
    "from src.utils import reduce_memory_usage\n",
    "from src.datasets import *\n",
    "\n",
    "init_notebook_mode(connected=True)\n",
    "import cufflinks as cf\n",
    "\n",
    "cf.go_offline()\n",
    "import pickle\n",
    "import gc\n",
    "import lightgbm as lgb\n",
    "\n",
    "warnings.filterwarnings('ignore')\n",
    "%matplotlib inline\n",
    "import plotly.io as pio\n",
    "\n",
    "pio.renderers.default = \"colab\"\n",
    "from loguru import logger\n",
    "import pendulum\n",
    "import sys"
   ]
  },
  {
   "cell_type": "code",
   "execution_count": 2,
   "metadata": {
    "id": "zcgQ_evGnCCa"
   },
   "outputs": [],
   "source": [
    "# Set logging format\n",
    "log_fmt = \"<green>{time:YYYY-MM-DD HH:mm:ss.SSS!UTC}</green> | <level>{level: <8}</level> | <cyan>{name}</cyan>:<cyan>{function}</cyan>:<cyan>{line}</cyan> - {message}\"\n",
    "logger.configure(handlers=[{\"sink\": sys.stderr, \"format\": log_fmt}])\n",
    "\n",
    "# current date\n",
    "CURRENT_DATE = pendulum.now(tz=\"UTC\")"
   ]
  },
  {
   "cell_type": "code",
   "execution_count": 3,
   "metadata": {
    "id": "MlfYIokUV5-y"
   },
   "outputs": [],
   "source": [
    "DIR = PARAMS['file_directory']"
   ]
  },
  {
   "cell_type": "code",
   "execution_count": 4,
   "metadata": {
    "id": "CEuq0w7iTUaG"
   },
   "outputs": [],
   "source": [
    "train_data = pd.read_csv(DIR + 'train_data_final.csv', index_col=0)"
   ]
  },
  {
   "cell_type": "code",
   "execution_count": 5,
   "metadata": {
    "id": "w_2hDm9UFoCw"
   },
   "outputs": [],
   "source": [
    "# def feature_selection(X, y, params, test_size=0.15, random_state=42, importance_threshold=50):\n",
    "#     \"\"\"\n",
    "#     Selects the most important features using a LightGBM classifier.\n",
    "\n",
    "#     Args:\n",
    "#         X (pd.DataFrame): The feature matrix.\n",
    "#         y (pd.Series): The target vector.\n",
    "#         params (dict): The dictionary of parameters for the LightGBM classifier.\n",
    "#         test_size (float): The proportion of the dataset to include in the validation split.\n",
    "#         random_state (int): Controls the shuffling applied to the data before applying the split.\n",
    "#         importance_threshold (int): The threshold for feature importance to select features.\n",
    "\n",
    "#     Returns:\n",
    "#         list: A list of selected feature names.\n",
    "#     \"\"\"\n",
    "#     # Split the data into training and validation sets\n",
    "#     train_features, valid_features, train_y, valid_y = train_test_split(X, y, test_size=test_size, random_state=random_state, stratify=y)\n",
    "\n",
    "#     # Initialize the LightGBM classifier with the given parameters\n",
    "#     model = lgb.LGBMClassifier(**params)\n",
    "\n",
    "#     # Train the model\n",
    "#     model.fit(train_features, train_y, eval_set=[(valid_features, valid_y)], eval_metric='auc')\n",
    "\n",
    "#     # Get feature importances\n",
    "#     feature_imp = pd.DataFrame(sorted(zip(model.feature_importances_, X.columns)), columns=['Value', 'Feature'])\n",
    "#     features_df = feature_imp.sort_values(by=\"Value\", ascending=False)\n",
    "\n",
    "#     # Select features based on the importance threshold\n",
    "#     selected_features = list(features_df[features_df['Value'] >= importance_threshold]['Feature'])\n",
    "\n",
    "#     print('The number of features selected:', len(selected_features))\n",
    "\n",
    "#     # Feature importance Plot\n",
    "#     data1 = features_df.head(20)\n",
    "#     data = [go.Bar(x =data1.sort_values(by='Value')['Value'] , y = data1.sort_values(by='Value')['Feature'], orientation = 'h',\n",
    "#                   marker = dict(\n",
    "#             color = 'rgba(43, 13, 150, 0.6)',\n",
    "#             line = dict(\n",
    "#                 color = 'rgba(43, 13, 150, 1.0)',\n",
    "#                 width = 1.5)\n",
    "#         )) ]\n",
    "#     layout = go.Layout(\n",
    "#         autosize=False,\n",
    "#         width=1300,\n",
    "#         height=700,\n",
    "#         title = \"Top 20 important features\",\n",
    "#         xaxis=dict(\n",
    "#             title='Importance value'\n",
    "#             ),\n",
    "#         yaxis=dict(\n",
    "#             automargin=True\n",
    "#             ),\n",
    "#         bargap=0.4\n",
    "#         )\n",
    "#     fig = go.Figure(data = data, layout=layout)\n",
    "#     fig.layout.template = 'seaborn'\n",
    "#     py.iplot(fig)\n",
    "\n",
    "#     return selected_features\n",
    "\n",
    "# # Example usage:\n",
    "# params = {\n",
    "#     'boosting_type': 'gbdt',\n",
    "#     'max_depth': 7,\n",
    "#     'learning_rate': 0.01,\n",
    "#     'n_estimators': 2000,\n",
    "#     'class_weight': 'balanced',\n",
    "#     'subsample': 0.9,\n",
    "#     'colsample_bytree': 0.8,\n",
    "#     'n_jobs': -1\n",
    "# }\n",
    "\n",
    "# selected_features = feature_selection(X_train, y_train, params, test_size=0.15, random_state=42, importance_threshold=50)"
   ]
  },
  {
   "cell_type": "code",
   "execution_count": null,
   "metadata": {
    "id": "3-uKb5oUsxqh"
   },
   "outputs": [],
   "source": []
  },
  {
   "cell_type": "code",
   "execution_count": 6,
   "metadata": {
    "id": "qB-h7edhZhRn"
   },
   "outputs": [],
   "source": [
    "import pandas as pd\n",
    "import numpy as np\n",
    "from sklearn.model_selection import train_test_split\n",
    "from sklearn.feature_selection import SelectKBest, f_classif\n",
    "\n",
    "\n",
    "def feature_selection(train_data, params=None):\n",
    "    \"\"\"\n",
    "    Selects the most important features using SelectKBest.\n",
    "\n",
    "    Args:\n",
    "        train_data (pd.DataFrame): The input DataFrame containing the features and target.\n",
    "        params (dict): Dictionary of parameters for the feature selection.\n",
    "\n",
    "    Returns:\n",
    "        tuple: A tuple containing:\n",
    "            - features_top_df_train (pd.DataFrame): DataFrame with selected features for training.\n",
    "            - features_top_df_cv (pd.DataFrame): DataFrame with selected features for validation.\n",
    "    \"\"\"\n",
    "\n",
    "    if params is None:\n",
    "        params = {'k': 250}  # Number of top features to select\n",
    "\n",
    "    # Extract features and target\n",
    "    X_data_train = train_data.drop(['TARGET'], axis=1)\n",
    "    Y_data_train = train_data['TARGET']\n",
    "\n",
    "    # Split the data\n",
    "    X_train_final, X_cv_final, Y_train_final, Y_cv_final = train_test_split(\n",
    "        X_data_train, Y_data_train, test_size=0.20, stratify=Y_data_train, random_state=42\n",
    "    )\n",
    "\n",
    "    # Initialize SelectKBest with parameters from the dictionary\n",
    "    k = params.get('k', 200)\n",
    "    S = SelectKBest(f_classif, k=k)\n",
    "\n",
    "    # Transform the data\n",
    "    X_train_k_best = S.fit_transform(X_train_final, Y_train_final)\n",
    "    X_cv_k_best = S.transform(X_cv_final)\n",
    "\n",
    "    # Get columns to keep\n",
    "    cols = S.get_support(indices=True)\n",
    "\n",
    "    # Create new DataFrames with selected features\n",
    "    features_top_df_train = X_train_final.iloc[:, cols]\n",
    "    features_top_df_cv = X_cv_final.iloc[:, cols]\n",
    "\n",
    "    # Obtenir les scores des features\n",
    "    feature_scores = pd.DataFrame({'Feature': X_train_final.columns, 'Score': S.scores_})\n",
    "\n",
    "    # Trier les features par score\n",
    "    top_features = feature_scores.sort_values(by='Score', ascending=False).head(20)\n",
    "\n",
    "    # Tracer les scores des 20 features les plus importantes\n",
    "    plt.figure(figsize=(12, 8))\n",
    "    sns.barplot(x='Score', y='Feature', data=top_features, palette='viridis')\n",
    "    plt.title('Top 20 Features by ANOVA F-value')\n",
    "    plt.xlabel('Score')\n",
    "    plt.ylabel('Feature')\n",
    "    plt.show()\n",
    "\n",
    "    # # Feature importance Plot\n",
    "    # data1 = features_top_df_train.head(20)\n",
    "    # data = [go.Bar(x =data1.sort_values(by='Value')['Value'] , y = data1.sort_values(by='Value')['Feature'], orientation = 'h',\n",
    "    #               marker = dict(\n",
    "    #         color = 'rgba(43, 13, 150, 0.6)',\n",
    "    #         line = dict(\n",
    "    #             color = 'rgba(43, 13, 150, 1.0)',\n",
    "    #             width = 1.5)\n",
    "    #     )) ]\n",
    "    # layout = go.Layout(\n",
    "    #     autosize=False,\n",
    "    #     width=1300,\n",
    "    #     height=700,\n",
    "    #     title = \"Top 20 important features\",\n",
    "    #     xaxis=dict(\n",
    "    #         title='Importance value'\n",
    "    #         ),\n",
    "    #     yaxis=dict(\n",
    "    #         automargin=True\n",
    "    #         ),\n",
    "    #     bargap=0.4\n",
    "    #     )\n",
    "    # fig = go.Figure(data = data, layout=layout)\n",
    "    # fig.layout.template = 'seaborn'\n",
    "    # py.iplot(fig)\n",
    "    return features_top_df_train, features_top_df_cv, Y_train_final, Y_cv_final"
   ]
  },
  {
   "cell_type": "code",
   "execution_count": 7,
   "metadata": {
    "colab": {
     "base_uri": "https://localhost:8080/",
     "height": 718
    },
    "id": "j9F855Xm08IV",
    "outputId": "ca328b40-29c8-4bfc-a9a2-3dd91c10c9e7"
   },
   "outputs": [
    {
     "data": {
      "image/png": "[encoded data removed]",
      "text/plain": [
       "<Figure size 1200x800 with 1 Axes>"
      ]
     },
     "metadata": {},
     "output_type": "display_data"
    }
   ],
   "source": [
    "X_train, X_test, y_train, y_test = feature_selection(train_data)"
   ]
  },
  {
   "cell_type": "code",
   "execution_count": 8,
   "metadata": {
    "id": "m9y6prFk1jye"
   },
   "outputs": [],
   "source": [
    "def define_pipeline(\n",
    "    numerical_transformer: list, categorical_transformer: list, target_transformer, classifier: Pipeline, **kwargs: dict\n",
    ") -> Pipeline:\n",
    "    \"\"\"Define pipeline for modeling\n",
    "\n",
    "    Args:\n",
    "        **kwargs:\n",
    "\n",
    "    Returns:\n",
    "        Pipeline: sklearn pipeline\n",
    "    \"\"\"\n",
    "    numerical_transformer = make_pipeline(*numerical_transformer)\n",
    "\n",
    "    categorical_transformer = make_pipeline(*categorical_transformer)\n",
    "\n",
    "    preprocessor = ColumnTransformer(\n",
    "        transformers=[\n",
    "            (\"num\", numerical_transformer, make_column_selector(dtype_include=[\"number\"])),\n",
    "            (\"cat\", categorical_transformer, make_column_selector(dtype_include=[\"object\", \"bool\"])),\n",
    "        ],\n",
    "        remainder=\"drop\",  # non-specified columns are dropped\n",
    "        verbose_feature_names_out=False,  # will not prefix any feature names with the name of the transformer\n",
    "    )\n",
    "\n",
    "    model_pipe = Pipeline(steps=[(\"preprocessor\", preprocessor), (\"classifier\", classifier)])\n",
    "\n",
    "    # logger.info(f\"{model_pipe}\")\n",
    "    return model_pipe"
   ]
  },
  {
   "cell_type": "code",
   "execution_count": 9,
   "metadata": {
    "id": "NjxqWsM94TNC"
   },
   "outputs": [],
   "source": [
    "from typing import Union, Dict\n",
    "from sklearn.metrics import log_loss, f1_score, roc_auc_score, recall_score, precision_score\n",
    "\n",
    "\n",
    "def eval_metrics(\n",
    "    y_actual: Union[pd.DataFrame, pd.Series, np.ndarray],\n",
    "    y_pred: Union[pd.DataFrame, pd.Series, np.ndarray],\n",
    "    y_pred_proba: Union[pd.DataFrame, pd.Series, np.ndarray],\n",
    ") -> Dict[str, float]:\n",
    "    \"\"\"Compute evaluation metrics for classification models.\n",
    "\n",
    "    Args:\n",
    "        y_actual: Ground truth (correct) target values.\n",
    "        y_pred: Estimated target values.\n",
    "        y_pred_proba: Predicted probabilities for the positive class.\n",
    "\n",
    "    Returns:\n",
    "        Dict[str, float]: dictionary of evaluation metrics.\n",
    "            Expected keys are: \"log_loss\", \"f1\", \"auc\", \"recall\", \"precision\"\n",
    "    \"\"\"\n",
    "    # Ensure y_actual, y_pred, and y_pred_proba are numpy arrays\n",
    "    y_actual = np.array(y_actual)\n",
    "    y_pred = np.array(y_pred)\n",
    "    y_pred_proba = np.array(y_pred_proba)\n",
    "\n",
    "    # Calculate Log Loss\n",
    "    logloss = log_loss(y_actual, y_pred_proba)\n",
    "\n",
    "    # Calculate F1 Score\n",
    "    f1 = f1_score(y_actual, y_pred, zero_division=0)\n",
    "\n",
    "    # Calculate AUC\n",
    "    auc = roc_auc_score(y_actual, y_pred_proba)\n",
    "\n",
    "    # Calculate Recall\n",
    "    recall = recall_score(y_actual, y_pred, zero_division=0)\n",
    "\n",
    "    # Calculate Precision\n",
    "    precision = precision_score(y_actual, y_pred, zero_division=0)\n",
    "\n",
    "    # Return a dictionary\n",
    "    return {\"log_loss\": logloss, \"f1\": f1, \"auc\": auc, \"recall\": recall, \"precision\": precision}"
   ]
  },
  {
   "cell_type": "markdown",
   "metadata": {
    "id": "IxfJT_yoGgRx"
   },
   "source": [
    "# Tracking"
   ]
  },
  {
   "cell_type": "code",
   "execution_count": 10,
   "metadata": {
    "colab": {
     "base_uri": "https://localhost:8080/"
    },
    "id": "hlBNtqwcJXQn",
    "outputId": "6eef4b06-c891-4899-b6f2-5b21a0a600c5"
   },
   "outputs": [
    {
     "name": "stdout",
     "output_type": "stream",
     "text": [
      "2.15.1\n"
     ]
    }
   ],
   "source": [
    "warnings.filterwarnings(\"ignore\")\n",
    "print(mlflow.__version__)"
   ]
  },
  {
   "cell_type": "code",
   "execution_count": 11,
   "metadata": {
    "colab": {
     "base_uri": "https://localhost:8080/"
    },
    "id": "6VGxPaulJZ36",
    "outputId": "4277ad7a-efe0-4e00-eafe-585279cdc8a0"
   },
   "outputs": [],
   "source": [
    "# # Set the tracking server to be localhost with sqlite as tracking store\n",
    "# local_registry = \"sqlite:///mlruns.db\"\n",
    "# print(f\"Running local model registry={local_registry}\")\n",
    "# model_name = \"home-default-credit-risk\"\n",
    "# mlflow.set_tracking_uri(local_registry)\n",
    "# with mlflow.start_run(run_name=\"LOCAL_REGISTRY\") as run:\n",
    "#     params = {\"n_estimators\": 3, \"random_state\": 0}\n",
    "#     sk_learn_rfr = RandomForestRegressor(params)\n",
    "\n",
    "#     # Log parameters and metrics using the MLflow API\n",
    "#     mlflow.log_params(params)\n",
    "#     log_param(\"param_1\", randint(0, 100))\n",
    "#     log_metric(\"metric_1\", random())\n",
    "#     log_metric(\"metric_2\", random() + 1)\n",
    "#     log_metric(\"metric_3\", random() + 2)\n",
    "\n",
    "#     # Log and register the model at the same time\n",
    "#     mlflow.sklearn.log_model(\n",
    "#         sk_model=sk_learn_rfr, artifact_path=\"sklearn-model\", registered_model_name=\"home-default-credit-risk\"\n",
    "#     )\n",
    "#     if not os.path.exists(\"outputs\"):\n",
    "#         os.makedirs(\"outputs\")\n",
    "#     with open(\"outputs/test.txt\", \"w\") as f:\n",
    "#         f.write(\"Looks, like I logged to the local store!\")\n",
    "#     log_artifacts(\"outputs\")\n",
    "#     shutil.rmtree('outputs')\n",
    "#     run_id = run.info.run_uuid"
   ]
  },
  {
   "cell_type": "code",
   "execution_count": 12,
   "metadata": {
    "colab": {
     "base_uri": "https://localhost:8080/"
    },
    "id": "PRE9d2mpIzgh",
    "outputId": "7f99cdf9-239c-453a-f8ef-49e948639077"
   },
   "outputs": [],
   "source": [
    "# client = MlflowClient()\n",
    "# #\n",
    "# # transition model stage to production\n",
    "# #\n",
    "# client.transition_model_version_stage(name='home-default-credit-risk', version=1, stage=\"production\")\n",
    "\n",
    "# # Get a list of all registered models\n",
    "# print(\"List of all registered models\")\n",
    "# print(\"=\" * 80)\n",
    "# # [print(pprint.pprint(dict(rm), indent=4)) for rm in client.list_registered_models()]\n",
    "\n",
    "# # Get a list of specific versions of the named models\n",
    "# print(f\"List of Model = home-default-credit-risk and Versions\")\n",
    "# print(\"=\" * 80)\n",
    "# [pprint.pprint(dict(mv), indent=4) for mv in client.search_model_versions(\"name='home-default-credit-risk'\")]"
   ]
  },
  {
   "cell_type": "code",
   "execution_count": 13,
   "metadata": {
    "id": "480D7qPgKFmZ"
   },
   "outputs": [],
   "source": [
    "# # run tracking UI in the background\n",
    "# get_ipython().system_raw(\"mlflow ui --backend-store-uri sqlite:///mlruns.db --port 5000 &\")# run tracking UI in the background"
   ]
  },
  {
   "cell_type": "code",
   "execution_count": 14,
   "metadata": {
    "colab": {
     "base_uri": "https://localhost:8080/"
    },
    "id": "6X77n-yUKMsc",
    "outputId": "e6221b75-4f25-4fbc-8987-34985e42aa06"
   },
   "outputs": [],
   "source": [
    "# from pyngrok import ngrok\n",
    "\n",
    "# # Terminate open tunnels if they exist\n",
    "# ngrok.kill()\n",
    "\n",
    "# # Setting the authtoken (optional)\n",
    "# NGROK_AUTH_TOKEN = \"2iY7so8olRpJ0i7EhHIw9jFeDDh_2xzCxkXDqFqi2934xAym5\"  # Replace with your actual ngrok auth token\n",
    "# ngrok.set_auth_token(NGROK_AUTH_TOKEN)\n",
    "\n",
    "# # Open an HTTPs tunnel on port 5000 for http://localhost:5000\n",
    "# public_url = ngrok.connect(5000, bind_tls=True)\n",
    "# print(\"MLflow Tracking UI:\", public_url)"
   ]
  },
  {
   "cell_type": "code",
   "execution_count": 15,
   "metadata": {},
   "outputs": [],
   "source": [
    "mlflow.set_tracking_uri(uri=\"http://127.0.0.1:5000\")"
   ]
  },
  {
   "cell_type": "code",
   "execution_count": 17,
   "metadata": {
    "colab": {
     "base_uri": "https://localhost:8080/"
    },
    "id": "YKucPVsVLNN8",
    "outputId": "48368c68-0521-4ccc-a773-cbe02710c509"
   },
   "outputs": [
    {
     "name": "stderr",
     "output_type": "stream",
     "text": [
      "\u001b[32m2024-08-07 18:16:37.926\u001b[0m | \u001b[1mINFO    \u001b[0m | \u001b[36m__main__\u001b[0m:\u001b[36m<module>\u001b[0m:\u001b[36m9\u001b[0m - Experience id: 924699276792283991\n"
     ]
    }
   ],
   "source": [
    "# Create an experiment if not exists\n",
    "exp_name = \"home-credit-default-risk\"\n",
    "experiment = mlflow.get_experiment_by_name(exp_name)\n",
    "if not experiment:\n",
    "    experiment_id = mlflow.create_experiment(exp_name)\n",
    "else:\n",
    "    experiment_id = experiment.experiment_id\n",
    "\n",
    "logger.info(f\"Experience id: {experiment_id}\")"
   ]
  },
  {
   "cell_type": "code",
   "execution_count": 18,
   "metadata": {
    "id": "J9XAGgU4L2WM"
   },
   "outputs": [],
   "source": [
    "CLASSIFIER_PARAMS = {\n",
    "    RandomForestClassifier.__name__: {\n",
    "        \"classifier\": RandomForestClassifier,\n",
    "        \"params\": {\"n_estimators\": 30, \"max_depth\": 3, \"random_state\": 42, \"class_weight\": \"balanced\"},\n",
    "    },\n",
    "    LogisticRegression.__name__: {\n",
    "        \"classifier\": LogisticRegression,\n",
    "        \"params\": {\n",
    "            \"penalty\": \"l2\",  # Regularization type\n",
    "            \"C\": 1.0,  # Inverse of regularization strength\n",
    "            \"random_state\": 42,\n",
    "            \"max_iter\": 1000,\n",
    "            \"class_weight\": \"balanced\",\n",
    "        },\n",
    "    },\n",
    "    lgb.LGBMClassifier.__name__: {\n",
    "        \"classifier\": lgb.LGBMClassifier,\n",
    "        \"params\": {\n",
    "            'learning_rate': 0.05,\n",
    "            'max_depth': 10,\n",
    "            'n_estimators': 200,\n",
    "            'num_leaves': 50,\n",
    "            'is_unbalanced': True,\n",
    "        },\n",
    "    },\n",
    "}"
   ]
  },
  {
   "cell_type": "code",
   "execution_count": null,
   "metadata": {
    "colab": {
     "base_uri": "https://localhost:8080/",
     "height": 245
    },
    "id": "x__W1JdlQJ6h",
    "outputId": "0ac1d837-6e36-4808-e8bc-87ed0cb1e6dc"
   },
   "outputs": [
    {
     "name": "stderr",
     "output_type": "stream",
     "text": [
      "\u001b[32m2024-08-07 16:43:14.765\u001b[0m | \u001b[1mINFO    \u001b[0m | \u001b[36m__main__\u001b[0m:\u001b[36m<module>\u001b[0m:\u001b[36m2\u001b[0m - RandomForestClassifier \n",
      "{'classifier': <class 'sklearn.ensemble._forest.RandomForestClassifier'>, 'params': {'n_estimators': 30, 'max_depth': 3, 'random_state': 42, 'class_weight': 'balanced'}}\n",
      "\u001b[32m2024-08-07 16:43:14.936\u001b[0m | \u001b[1mINFO    \u001b[0m | \u001b[36m__main__\u001b[0m:\u001b[36m<module>\u001b[0m:\u001b[36m14\u001b[0m - run_id: ec170b1489394282ae0b4860f59d0c77\n",
      "\u001b[32m2024-08-07 16:43:14.937\u001b[0m | \u001b[1mINFO    \u001b[0m | \u001b[36m__main__\u001b[0m:\u001b[36m<module>\u001b[0m:\u001b[36m15\u001b[0m - version tag value: v1 -------------------------------\n",
      "\u001b[32m2024-08-07 16:43:41.697\u001b[0m | \u001b[1mINFO    \u001b[0m | \u001b[36m__main__\u001b[0m:\u001b[36m<module>\u001b[0m:\u001b[36m46\u001b[0m - Train: {'log_loss': 0.6561721063612771, 'f1': 0.24106577231227874, 'auc': 0.7153114731868859, 'recall': 0.651460221550856, 'precision': 0.14789666209419297}\n",
      "\u001b[32m2024-08-07 16:43:41.697\u001b[0m | \u001b[1mINFO    \u001b[0m | \u001b[36m__main__\u001b[0m:\u001b[36m<module>\u001b[0m:\u001b[36m47\u001b[0m - Test: {'log_loss': 0.6558184754545546, 'f1': 0.24108416547788872, 'auc': 0.7150432132786166, 'recall': 0.6467270896273918, 'precision': 0.1481566926590689}\n"
     ]
    },
    {
     "data": {
      "application/vnd.jupyter.widget-view+json": {
       "model_id": "f0e9807f380a412585f97caba3cfec26",
       "version_major": 2,
       "version_minor": 0
      },
      "text/plain": [
       "Downloading artifacts:   0%|          | 0/7 [00:00<?, ?it/s]"
      ]
     },
     "metadata": {},
     "output_type": "display_data"
    },
    {
     "name": "stderr",
     "output_type": "stream",
     "text": [
      "2024/08/07 16:43:46 INFO mlflow.tracking._tracking_service.client: 🏃 View run 20240807_160826-house_price-RandomForestClassifier at: http://127.0.0.1:5000/#/experiments/924699276792283991/runs/ec170b1489394282ae0b4860f59d0c77.\n",
      "2024/08/07 16:43:46 INFO mlflow.tracking._tracking_service.client: 🧪 View experiment at: http://127.0.0.1:5000/#/experiments/924699276792283991.\n",
      "\u001b[32m2024-08-07 16:43:46.708\u001b[0m | \u001b[1mINFO    \u001b[0m | \u001b[36m__main__\u001b[0m:\u001b[36m<module>\u001b[0m:\u001b[36m2\u001b[0m - LogisticRegression \n",
      "{'classifier': <class 'sklearn.linear_model._logistic.LogisticRegression'>, 'params': {'penalty': 'l2', 'C': 1.0, 'random_state': 42, 'max_iter': 1000, 'class_weight': 'balanced'}}\n",
      "\u001b[32m2024-08-07 16:43:46.836\u001b[0m | \u001b[1mINFO    \u001b[0m | \u001b[36m__main__\u001b[0m:\u001b[36m<module>\u001b[0m:\u001b[36m14\u001b[0m - run_id: 3a0bad8e494740dd84f92851188954bc\n",
      "\u001b[32m2024-08-07 16:43:46.836\u001b[0m | \u001b[1mINFO    \u001b[0m | \u001b[36m__main__\u001b[0m:\u001b[36m<module>\u001b[0m:\u001b[36m15\u001b[0m - version tag value: v1 -------------------------------\n",
      "\u001b[32m2024-08-07 16:47:18.327\u001b[0m | \u001b[1mINFO    \u001b[0m | \u001b[36m__main__\u001b[0m:\u001b[36m<module>\u001b[0m:\u001b[36m46\u001b[0m - Train: {'log_loss': 0.691712884883226, 'f1': 0.20133751027572264, 'auc': 0.6052404528250452, 'recall': 0.45629405840886206, 'precision': 0.1291655976510163}\n",
      "\u001b[32m2024-08-07 16:47:18.327\u001b[0m | \u001b[1mINFO    \u001b[0m | \u001b[36m__main__\u001b[0m:\u001b[36m<module>\u001b[0m:\u001b[36m47\u001b[0m - Test: {'log_loss': 0.6913097053460974, 'f1': 0.19980515454786998, 'auc': 0.6083850457393627, 'recall': 0.454380664652568, 'precision': 0.12805812567406483}\n"
     ]
    },
    {
     "data": {
      "application/vnd.jupyter.widget-view+json": {
       "model_id": "bc288159ac484c74a44db57480714017",
       "version_major": 2,
       "version_minor": 0
      },
      "text/plain": [
       "Downloading artifacts:   0%|          | 0/7 [00:00<?, ?it/s]"
      ]
     },
     "metadata": {},
     "output_type": "display_data"
    },
    {
     "name": "stderr",
     "output_type": "stream",
     "text": [
      "2024/08/07 16:47:23 INFO mlflow.tracking._tracking_service.client: 🏃 View run 20240807_160826-house_price-LogisticRegression at: http://127.0.0.1:5000/#/experiments/924699276792283991/runs/3a0bad8e494740dd84f92851188954bc.\n",
      "2024/08/07 16:47:23 INFO mlflow.tracking._tracking_service.client: 🧪 View experiment at: http://127.0.0.1:5000/#/experiments/924699276792283991.\n",
      "\u001b[32m2024-08-07 16:47:23.112\u001b[0m | \u001b[1mINFO    \u001b[0m | \u001b[36m__main__\u001b[0m:\u001b[36m<module>\u001b[0m:\u001b[36m2\u001b[0m - LGBMClassifier \n",
      "{'classifier': <class 'lightgbm.sklearn.LGBMClassifier'>, 'params': {'learning_rate': 0.05, 'max_depth': 10, 'n_estimators': 200, 'num_leaves': 50, 'is_unbalanced': True}}\n",
      "\u001b[32m2024-08-07 16:47:23.291\u001b[0m | \u001b[1mINFO    \u001b[0m | \u001b[36m__main__\u001b[0m:\u001b[36m<module>\u001b[0m:\u001b[36m14\u001b[0m - run_id: 9ea0fdd64a6b40069c262e5569f2af94\n",
      "\u001b[32m2024-08-07 16:47:23.291\u001b[0m | \u001b[1mINFO    \u001b[0m | \u001b[36m__main__\u001b[0m:\u001b[36m<module>\u001b[0m:\u001b[36m15\u001b[0m - version tag value: v1 -------------------------------\n"
     ]
    },
    {
     "name": "stdout",
     "output_type": "stream",
     "text": [
      "[LightGBM] [Warning] Unknown parameter: is_unbalanced\n",
      "[LightGBM] [Warning] Unknown parameter: is_unbalanced\n",
      "[LightGBM] [Info] Number of positive: 19860, number of negative: 226148\n",
      "[LightGBM] [Info] Auto-choosing row-wise multi-threading, the overhead of testing was 0.159782 seconds.\n",
      "You can set `force_row_wise=true` to remove the overhead.\n",
      "And if memory is not enough, you can set `force_col_wise=true`.\n",
      "[LightGBM] [Info] Total Bins 30607\n",
      "[LightGBM] [Info] Number of data points in the train set: 246008, number of used features: 250\n",
      "[LightGBM] [Info] [binary:BoostFromScore]: pavg=0.080729 -> initscore=-2.432482\n",
      "[LightGBM] [Info] Start training from score -2.432482\n",
      "[LightGBM] [Warning] Unknown parameter: is_unbalanced\n",
      "[LightGBM] [Warning] Unknown parameter: is_unbalanced\n",
      "[LightGBM] [Warning] Unknown parameter: is_unbalanced\n",
      "[LightGBM] [Warning] Unknown parameter: is_unbalanced\n"
     ]
    },
    {
     "name": "stderr",
     "output_type": "stream",
     "text": [
      "\u001b[32m2024-08-07 16:48:08.242\u001b[0m | \u001b[1mINFO    \u001b[0m | \u001b[36m__main__\u001b[0m:\u001b[36m<module>\u001b[0m:\u001b[36m46\u001b[0m - Train: {'log_loss': 0.21809853736595441, 'f1': 0.0929637526652452, 'auc': 0.8431593790383081, 'recall': 0.04939577039274924, 'precision': 0.7879518072289157}\n",
      "\u001b[32m2024-08-07 16:48:08.242\u001b[0m | \u001b[1mINFO    \u001b[0m | \u001b[36m__main__\u001b[0m:\u001b[36m<module>\u001b[0m:\u001b[36m47\u001b[0m - Test: {'log_loss': 0.24113580173692162, 'f1': 0.05878984539034167, 'auc': 0.7733152514023578, 'recall': 0.031017119838872106, 'precision': 0.5620437956204379}\n"
     ]
    },
    {
     "name": "stdout",
     "output_type": "stream",
     "text": [
      "[LightGBM] [Warning] Unknown parameter: is_unbalanced\n"
     ]
    },
    {
     "data": {
      "application/vnd.jupyter.widget-view+json": {
       "model_id": "cc6887d4dbb54442b25a9eadba2c79c6",
       "version_major": 2,
       "version_minor": 0
      },
      "text/plain": [
       "Downloading artifacts:   0%|          | 0/7 [00:00<?, ?it/s]"
      ]
     },
     "metadata": {},
     "output_type": "display_data"
    },
    {
     "name": "stderr",
     "output_type": "stream",
     "text": [
      "2024/08/07 16:48:15 INFO mlflow.tracking._tracking_service.client: 🏃 View run 20240807_160826-house_price-LGBMClassifier at: http://127.0.0.1:5000/#/experiments/924699276792283991/runs/9ea0fdd64a6b40069c262e5569f2af94.\n",
      "2024/08/07 16:48:15 INFO mlflow.tracking._tracking_service.client: 🧪 View experiment at: http://127.0.0.1:5000/#/experiments/924699276792283991.\n"
     ]
    },
    {
     "name": "stdout",
     "output_type": "stream",
     "text": [
      "[LightGBM] [Warning] Unknown parameter: is_unbalanced\n"
     ]
    }
   ],
   "source": [
    "for model_name, model_configs in CLASSIFIER_PARAMS.items():\n",
    "    logger.info(f\"{model_name} \\n{model_configs}\")\n",
    "\n",
    "    classifier = model_configs[\"classifier\"]\n",
    "    params = model_configs[\"params\"]\n",
    "\n",
    "    # Useful for multiple runs (only doing one run in this sample notebook)\n",
    "    with mlflow.start_run(\n",
    "        run_name=f\"{CURRENT_DATE.strftime('%Y%m%d_%H%m%S')}-house_price-{model_name}\",\n",
    "        experiment_id=experiment_id,\n",
    "        tags={\"version\": \"v1\", \"priority\": \"P1\"},\n",
    "        description=\"house price modeling\",\n",
    "    ) as mlf_run:\n",
    "        logger.info(f\"run_id: {mlf_run.info.run_id}\")\n",
    "        logger.info(f\"version tag value: {mlf_run.data.tags.get('version')} -------------------------------\")\n",
    "\n",
    "        # log parameters\n",
    "        mlflow.log_params(params)\n",
    "\n",
    "        # Model definition\n",
    "        clas = define_pipeline(\n",
    "            numerical_transformer=[SimpleImputer(strategy=\"median\"), RobustScaler()],\n",
    "            categorical_transformer=[\n",
    "                SimpleImputer(strategy=\"constant\", fill_value=\"undefined\"),\n",
    "                OneHotEncoder(drop=\"if_binary\", handle_unknown=\"ignore\"),\n",
    "            ],\n",
    "            target_transformer=False,\n",
    "            classifier=classifier(**params),\n",
    "        )\n",
    "\n",
    "        clas.fit(X_train, y_train)\n",
    "\n",
    "        # mlflow.shap.log_explanation(clas.predict, X_test)\n",
    "\n",
    "        # Predict probabilities for AUC and Log Loss\n",
    "        y_train_pred_proba = clas.predict_proba(X_train)[:, 1]  # Probability of the positive class\n",
    "        y_test_pred_proba = clas.predict_proba(X_test)[:, 1]  # Probability of the positive class\n",
    "\n",
    "        # Evaluate Metrics\n",
    "        y_train_pred = clas.predict(X_train)\n",
    "        y_test_pred = clas.predict(X_test)\n",
    "        train_metrics = eval_metrics(y_train, y_train_pred, y_train_pred_proba)\n",
    "        test_metrics = eval_metrics(y_test, y_test_pred, y_test_pred_proba)\n",
    "\n",
    "        # log out metrics\n",
    "        logger.info(f\"Train: {train_metrics}\")\n",
    "        logger.info(f\"Test: {test_metrics}\")\n",
    "\n",
    "        # Infer model signature with a sample\n",
    "        predictions = clas.predict(X_train[:30])\n",
    "        signature = mlflow.models.infer_signature(X_train[:30], predictions)\n",
    "\n",
    "        # Log  metrics, and model to MLflow\n",
    "        mlflow.log_metrics(test_metrics)\n",
    "        mlflow.sklearn.log_model(\n",
    "            clas, artifact_path=clas[-1].__class__.__name__, signature=signature, input_example=X_train[:30]\n",
    "        )"
   ]
  }
 ],
 "metadata": {
  "colab": {
   "provenance": []
  },
  "kernelspec": {
   "display_name": "Python 3",
   "name": "python3"
  },
  "language_info": {
   "codemirror_mode": {
    "name": "ipython",
    "version": 3
   },
   "file_extension": ".py",
   "mimetype": "text/x-python",
   "name": "python",
   "nbconvert_exporter": "python",
   "pygments_lexer": "ipython3",
   "version": "3.10.4"
  }
 },
 "nbformat": 4,
 "nbformat_minor": 0
}
